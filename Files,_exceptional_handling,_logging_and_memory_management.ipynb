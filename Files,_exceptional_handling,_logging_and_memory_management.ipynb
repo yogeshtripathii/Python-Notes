{
  "nbformat": 4,
  "nbformat_minor": 0,
  "metadata": {
    "colab": {
      "provenance": []
    },
    "kernelspec": {
      "name": "python3",
      "display_name": "Python 3"
    },
    "language_info": {
      "name": "python"
    }
  },
  "cells": [
    {
      "cell_type": "markdown",
      "source": [
        "# Theory Questions"
      ],
      "metadata": {
        "id": "V73V-XdcS298"
      }
    },
    {
      "cell_type": "markdown",
      "source": [
        "1. **What is the difference between interpreted and compiled languages?**\n",
        "  > **Interpreted Language:** Interpretor run code line-by-line. Example: python\n",
        "\n",
        "  > **Compiled Language:** Its execute the whole source code at once into machine level langauage.Example: C, C++\n",
        "\n",
        "\n",
        "\n"
      ],
      "metadata": {
        "id": "VFV5kEBCS6cE"
      }
    },
    {
      "cell_type": "markdown",
      "source": [
        "2. **What is exception handling in Python?**\n",
        "  > **Exception Handling:** Concept which deals with unexpected errors while the program is running, so the program doesn't crash.\n"
      ],
      "metadata": {
        "id": "cmuvmSESTvhN"
      }
    },
    {
      "cell_type": "markdown",
      "source": [
        "3. **What is the purpose of the finally block in exception handling?**\n",
        "  > **finally block:** The code inside a finally block always runs, whether an error happened or not. They are used when we need to do some task rather then what happen in the program, like closing files or closing the connection request.\n"
      ],
      "metadata": {
        "id": "VPSP5-VdUfs-"
      }
    },
    {
      "cell_type": "markdown",
      "source": [
        "4. **What is logging in Python?**\n",
        "  > **Logging:** It is used to track the events when the program is running like status updates, warnings, or errors to a file or console. It helps you understand and debug your program.\n"
      ],
      "metadata": {
        "id": "Mkrd51IEW-P4"
      }
    },
    {
      "cell_type": "markdown",
      "source": [
        "5. **What is the significance of the __del__ method in Python?**\n",
        " > **\\__del__ method:** This method is called by Python when an object is about to be deleted from memory to final clean the resources.\n"
      ],
      "metadata": {
        "id": "FDkTkFyzY6rA"
      }
    },
    {
      "cell_type": "markdown",
      "source": [
        "6. **What is the difference between import and from ... import in Python?**\n",
        "  > **import module_name:** Imports the whole module. You then access its contents using module_name.item. Example:\n",
        "  ```\n",
        "  import math\n",
        "  math.sqrt(9)\n",
        "  ```\n",
        " > **from module_name import item_name:** Imports only specific items directly into our file. We can use them directly without the module name prefix.Example:\n",
        " ```\n",
        " from math import sqrt\n",
        " sqrt(9)\n",
        " ```\n"
      ],
      "metadata": {
        "id": "Jdkfj2KAfGhZ"
      }
    },
    {
      "cell_type": "markdown",
      "source": [
        "7. **How can you handle multiple exceptions in Python?**\n",
        "  > We can handle multiple exceptions in two main ways:\n",
        "    * **Multiple except blocks:** Use a separate except block for each exception type.\n",
        "    ```\n",
        "    try:\n",
        "        instruction\n",
        "    except ValueError:\n",
        "        error message\n",
        "    except TypeError:\n",
        "        error message\n",
        "    ```\n",
        "  >\n",
        "  * **Single except block with multiple exception:** Write all specific error in a single except block.\n",
        "\n",
        "    ```\n",
        "    try:\n",
        "        instruction\n",
        "    except (ValueError, TypeError) as e:\n",
        "        error message\n",
        "\n",
        "    ```\n"
      ],
      "metadata": {
        "id": "cZP8frE-njhM"
      }
    },
    {
      "cell_type": "markdown",
      "source": [
        "8. **What is the purpose of the with statement when handling files in Python?**\n",
        " > **with statement:** This is used for resource management even after the exception. It ensures that the files or connection are properly close.\n"
      ],
      "metadata": {
        "id": "qdREK8ZQqExn"
      }
    },
    {
      "cell_type": "markdown",
      "source": [
        "9. **What is the difference between multithreading and multiprocessing?**\n",
        "  > **Multithreading:** Runs multiple \"threads\" within the same process. They share the same memory. Good for I/O-bound task.\n",
        "\n",
        " > **Multiprocessing:** Runs multiple processes simultaneously i.e separate programs. Each process has its own memory space. Good for CPU-bound task.\n"
      ],
      "metadata": {
        "id": "AUD6B09mqu1D"
      }
    },
    {
      "cell_type": "markdown",
      "source": [
        "10. **What are the advantages of using logging in a program?**\n",
        "  > Logging is important for software development, debugging, and running. If we don't have any logging record and our program crashes, there are very few chances that we detect the cause of the problem in time. But keeping log of records we can easily find this.\n"
      ],
      "metadata": {
        "id": "-HuhTT9TrZ4z"
      }
    },
    {
      "cell_type": "markdown",
      "source": [
        "11. **What is memory management in Python?**\n",
        "  > **Memory Management:** It means that how the memory is allocated or deallocted to an object. It is done by python automatically so the the program doesnt run out of memory.\n"
      ],
      "metadata": {
        "id": "0pJkqM9EsnBG"
      }
    },
    {
      "cell_type": "markdown",
      "source": [
        "12. **What are the basic steps involved in exception handling in Python?**\n",
        "  > **try:** write code that might cause an error inside this block.\n",
        "\n",
        "  > **except:** If an error occurs in the try block, the code in this block runs to handle it.\n",
        "\n",
        "  > **else:** code written here runs only if no error occurs in the try block.\n",
        "\n",
        "  > **finally:** code written in finally alwyas run either try has error or not\n"
      ],
      "metadata": {
        "id": "zvuvk86ltJW9"
      }
    },
    {
      "cell_type": "markdown",
      "source": [
        "13. **Why is memory management important in Python?**\n",
        "  > * Prevents Crashes\n",
        "    * Optimizes Performance\n",
        "    * Reduces Leaks\n",
        "    * Simplifies Coding\n"
      ],
      "metadata": {
        "id": "cUmijH-Vtrm4"
      }
    },
    {
      "cell_type": "markdown",
      "source": [
        "14. **What is the role of try and except in exception handling?**\n",
        "  > **try:** This block contains the code that can giveerrors. If an error occurs inside try, Python stops executing that part of the try block and jumps to the except block.\n",
        "\n",
        "  > **except:** The except contains the code that gets executed if a specific type of error or an exception occurs in try block.\n"
      ],
      "metadata": {
        "id": "cy7FjB1CvjdV"
      }
    },
    {
      "cell_type": "markdown",
      "source": [
        "15. **How does Python's garbage collection system work?**\n",
        "  > It uses 2 techniques:\n",
        "    * Referencing counting- Each object has it reference count if it drop to 0 it removed from memory.\n",
        "    * Generational garbage collection- It periodically scan teh references of objects"
      ],
      "metadata": {
        "id": "iG5j-D1nv_Wx"
      }
    },
    {
      "cell_type": "markdown",
      "source": [
        "16. **What is the purpose of the else block in exception handling?**\n",
        "  > **else block:** The code written inside the else block, runs only if no exception was raised in the try block. It's used for code that should execute only upon successful completion of the try block.\n"
      ],
      "metadata": {
        "id": "hcTyF8erxbUr"
      }
    },
    {
      "cell_type": "markdown",
      "source": [
        "17. **What are the common logging levels in Python?**\n",
        "  > Common logging levels are:\n",
        "    * DEBUG: Detailed information useful only when a problem is being diagnosed.\n",
        "    * INFO: Confirm that things are working as expected.\n",
        "    * WARNING: An indication that something unexpected happened or may happen in future.\n",
        "    * ERROR: Due to a more serious problem, the software has not been able to perform some function.\n",
        "    * CRITICAL: A serious error, indicating that the program itself may be unable to continue running.\n"
      ],
      "metadata": {
        "id": "u2wrnKqnxzfM"
      }
    },
    {
      "cell_type": "markdown",
      "source": [
        "18. **What is the difference between os.fork() and multiprocessing in Python?**\n",
        "  > **os.fork():** The os.fork() function is available on UNIX-based systems and provides a low-level approach to process creation. Calling this function duplicates the current process, creating a new child process.\n",
        "\n",
        "  > **multiprocessing module:** The multiprocessing module offers a high-level API for parallel processing in Python, facilitating the creation of independent processes, data sharing, and inter-process communication with ease.\n"
      ],
      "metadata": {
        "id": "ym_wglpWyoSq"
      }
    },
    {
      "cell_type": "markdown",
      "source": [
        "19. **What is the importance of closing a file in Python?**\n",
        "  > It frees up the resources, prevents data loss or corruption."
      ],
      "metadata": {
        "id": "n02GJBlTzxS8"
      }
    },
    {
      "cell_type": "markdown",
      "source": [
        "20. **What is the difference between file.read() and file.readline() in Python?**\n",
        "  > **file.read():** Reads the entire content of the file as a string.\n",
        "\n",
        "  > **file.readline():** Reads just one line from the file at a time, including the newline character.\n"
      ],
      "metadata": {
        "id": "w9ztTFy978GU"
      }
    },
    {
      "cell_type": "markdown",
      "source": [
        "21. **What is the logging module in Python used for?**\n",
        "  > The logging module is used for recording events and messages from a program. It's used for:\n",
        "  * Debugging\n",
        "  * Status Monitoring\n",
        "  * Error Reporting\n",
        "  * Auditing\n"
      ],
      "metadata": {
        "id": "ww5S66xv8NFE"
      }
    },
    {
      "cell_type": "markdown",
      "source": [
        "22. **What is the os module in Python used for in file handling?**\n",
        "  > The os module is used to interact with the operating system. In file handling, it's used for system-level operations related to files and directories like creating, deleting, listing of file directories, finding the file and many more.\n"
      ],
      "metadata": {
        "id": "i7A0BDPj8vh2"
      }
    },
    {
      "cell_type": "markdown",
      "source": [
        "23. **What are the challenges associated with memory management in Python?**\n",
        "  > Memory leaks\n",
        "\n",
        "  > High memory consuption\n",
        "\n",
        "  > Limited control"
      ],
      "metadata": {
        "id": "9lkfoynj9HLe"
      }
    },
    {
      "cell_type": "markdown",
      "source": [
        "24. **How do you raise an exception manually in Python?**\n",
        "  > We can raise an exception manually using the raise keyword.\n",
        "    ```\n",
        "    raise ErrorName(\"Error message.\")\n",
        "    ```"
      ],
      "metadata": {
        "id": "P426eQ9E9fnC"
      }
    },
    {
      "cell_type": "markdown",
      "source": [
        "25. **Why is it important to use multithreading in certain applications?**\n",
        "  > Mutlithreading is used to perform multiple task simultaneously. Due to this the application process become:\n",
        "  * Responsive\n",
        "  * Perfromance Improved\n",
        "  * Can handle many work at same time\n",
        "  * Resource sharing\"\n"
      ],
      "metadata": {
        "id": "NZUN8DTA978v"
      }
    },
    {
      "cell_type": "markdown",
      "source": [
        "# Practical Questions"
      ],
      "metadata": {
        "id": "0zqirmAk_Gbs"
      }
    },
    {
      "cell_type": "code",
      "source": [
        "\"\"\"\n",
        "1. How can you open a file for writing in Python and write a string to it.\n",
        "\"\"\"\n",
        "with open(\"data.txt\",'a') as file:\n",
        "  file.write(\"This program is used to insert data to a file\\n\")\n",
        "  file.write(\"We adding some random text in it\\n\")\n"
      ],
      "metadata": {
        "id": "AfhyJMFnyn0X"
      },
      "execution_count": 1,
      "outputs": []
    },
    {
      "cell_type": "code",
      "source": [
        "\"\"\"\n",
        "2. Write a Python program to read the contents of a file and print each line\n",
        "\"\"\"\n",
        "with open(\"data.txt\") as file:\n",
        "  print(file.read())"
      ],
      "metadata": {
        "colab": {
          "base_uri": "https://localhost:8080/"
        },
        "id": "xPUthILWXHvQ",
        "outputId": "43c80def-b26d-4cb8-ede7-12d06f09dc58"
      },
      "execution_count": 2,
      "outputs": [
        {
          "output_type": "stream",
          "name": "stdout",
          "text": [
            "This program is used to insert data to a file\n",
            "We adding some random text in it\n",
            "\n"
          ]
        }
      ]
    },
    {
      "cell_type": "code",
      "source": [
        "\"\"\"\n",
        "3. How would you handle a case where the file doesn't exist while trying to open\n",
        "it for reading.\n",
        "\"\"\"\n",
        "try:\n",
        "  with open(\"data1.txt\") as file:\n",
        "    print(file.read())\n",
        "except FileNotFoundError:\n",
        "  print(\"File not found\")\n"
      ],
      "metadata": {
        "colab": {
          "base_uri": "https://localhost:8080/"
        },
        "id": "4b0eBNt2YcNw",
        "outputId": "a0250f6f-4c33-4717-876c-a68b64308b00"
      },
      "execution_count": 3,
      "outputs": [
        {
          "output_type": "stream",
          "name": "stdout",
          "text": [
            "File not found\n"
          ]
        }
      ]
    },
    {
      "cell_type": "code",
      "source": [
        "\"\"\"\n",
        "4.Write a Python script that reads from one file and writes its content to\n",
        "another file\n",
        "\"\"\"\n",
        "with open(\"data.txt\") as file:\n",
        "  with open(\"data1.txt\",'a') as file1:\n",
        "    file1.write(file.read())\n",
        "\n",
        "with open(\"data1.txt\") as file:\n",
        "  print(file.read())"
      ],
      "metadata": {
        "colab": {
          "base_uri": "https://localhost:8080/"
        },
        "id": "jrMZDCB8Yqef",
        "outputId": "c071ebf8-1d24-471e-9837-ca475e5b9d3d"
      },
      "execution_count": 4,
      "outputs": [
        {
          "output_type": "stream",
          "name": "stdout",
          "text": [
            "This program is used to insert data to a file\n",
            "We adding some random text in it\n",
            "\n"
          ]
        }
      ]
    },
    {
      "cell_type": "code",
      "source": [
        "\"\"\"\n",
        "5. How would you catch and handle division by zero error in Python\n",
        "\"\"\"\n",
        "\n",
        "try:\n",
        "  print(8/0)\n",
        "except (ZeroDivisionError, ArithmeticError) as e:\n",
        "  print(e)"
      ],
      "metadata": {
        "colab": {
          "base_uri": "https://localhost:8080/"
        },
        "id": "RPCnn38GY3MV",
        "outputId": "a1a4f6f5-297d-4e1e-ee39-c2cdc09abbb1"
      },
      "execution_count": 5,
      "outputs": [
        {
          "output_type": "stream",
          "name": "stdout",
          "text": [
            "division by zero\n"
          ]
        }
      ]
    },
    {
      "cell_type": "code",
      "source": [
        "\"\"\"\n",
        "6. Write a Python program that logs an error message to a log file when a\n",
        "division by zero exception occurs.\n",
        "\"\"\"\n",
        "import logging\n",
        "\n",
        "logging.basicConfig(filename=\"/content/error.log\",filemode=\"a\",\n",
        "                    level=logging.ERROR,\n",
        "                    format='%(asctime)s - %(levelname)s - %(message)s',\n",
        "                    force=True)\n",
        "\n",
        "try:\n",
        "  print(8/0)\n",
        "except (ZeroDivisionError, ArithmeticError) as e:\n",
        "  logging.error(e)\n",
        "\n",
        "!cat /content/error.log\n"
      ],
      "metadata": {
        "colab": {
          "base_uri": "https://localhost:8080/"
        },
        "id": "Dn2vcWeKZhHf",
        "outputId": "b34dbd99-634e-465c-a899-cf1e23957f93"
      },
      "execution_count": 6,
      "outputs": [
        {
          "output_type": "stream",
          "name": "stdout",
          "text": [
            "2025-06-30 07:09:02,000 - ERROR - division by zero\n"
          ]
        }
      ]
    },
    {
      "cell_type": "code",
      "source": [
        "\"\"\"\n",
        "7. How do you log information at different levels (INFO, ERROR, WARNING) in\n",
        " Python using the logging module\n",
        "\"\"\"\n",
        "\n",
        "import logging\n",
        "\n",
        "logging.basicConfig(filename=\"newfile.log\",\n",
        "                    format='%(asctime)s %(message)s',\n",
        "                    filemode='w',force=True)\n",
        "\n",
        "logger = logging.getLogger()\n",
        "logger.setLevel(logging.DEBUG)\n",
        "\n",
        "logger.debug(\"Harmless debug Message\")\n",
        "logger.info(\"Just an information\")\n",
        "logger.warning(\"Its a Warning\")\n",
        "logger.error(\"Did you try to divide by zero\")\n",
        "logger.critical(\"Internet is down\")"
      ],
      "metadata": {
        "id": "WSOImn8sbGk2"
      },
      "execution_count": 22,
      "outputs": []
    },
    {
      "cell_type": "code",
      "source": [
        "\"\"\"\n",
        "8. Write a program to handle a file opening error using exception handling\n",
        "in Python.\n",
        "\"\"\"\n",
        "\n",
        "try:\n",
        "  with open(\"data2.txt\") as file:\n",
        "    print(file.read())\n",
        "except FileNotFoundError:\n",
        "  print(\"File not found\")\n"
      ],
      "metadata": {
        "colab": {
          "base_uri": "https://localhost:8080/"
        },
        "id": "lj520hPFnctM",
        "outputId": "8c581058-cb0b-4ef1-93a5-0e9840c660eb"
      },
      "execution_count": 8,
      "outputs": [
        {
          "output_type": "stream",
          "name": "stdout",
          "text": [
            "File not found\n"
          ]
        }
      ]
    },
    {
      "cell_type": "code",
      "source": [
        "\"\"\"\n",
        "9. How can you read a file line by line and store its content in a list in Python\n",
        "\"\"\"\n",
        "with open(\"data.txt\") as file:\n",
        "  print(file.readlines())"
      ],
      "metadata": {
        "colab": {
          "base_uri": "https://localhost:8080/"
        },
        "id": "Jf-uzcnRqOyC",
        "outputId": "d7de681e-edc9-41c6-a597-525b7b70e154"
      },
      "execution_count": 9,
      "outputs": [
        {
          "output_type": "stream",
          "name": "stdout",
          "text": [
            "['This program is used to insert data to a file\\n', 'We adding some random text in it\\n']\n"
          ]
        }
      ]
    },
    {
      "cell_type": "code",
      "source": [
        "\"\"\"\n",
        "10. How can you append data to an existing file in Python\n",
        "\"\"\"\n",
        "with open(\"data.txt\",'a') as file:\n",
        "  file.write(\"This program is used to insert data to a file\\n\")\n",
        "  file.write(\"We adding some random text in it\\n\")\n",
        "\n",
        "with open(\"data.txt\") as file:\n",
        "  print(file.read())"
      ],
      "metadata": {
        "colab": {
          "base_uri": "https://localhost:8080/"
        },
        "id": "enHIDdpQqSyR",
        "outputId": "ca1308de-9d26-4c7e-f06e-a86f3b6d6855"
      },
      "execution_count": 12,
      "outputs": [
        {
          "output_type": "stream",
          "name": "stdout",
          "text": [
            "This program is used to insert data to a file\n",
            "We adding some random text in it\n",
            "\n"
          ]
        }
      ]
    },
    {
      "cell_type": "code",
      "source": [
        "\"\"\"\n",
        "11.  Write a Python program that uses a try-except block to handle an error\n",
        "when attempting to access a dictionary key that doesn't exist\n",
        "\"\"\"\n",
        "user={\"name\":\"amit\",\"address\":\"nainital\"}\n",
        "try:\n",
        "  print(user[\"qualification\"])\n",
        "except KeyError as e:\n",
        "  print(f\"key[{e}] not found\")"
      ],
      "metadata": {
        "colab": {
          "base_uri": "https://localhost:8080/"
        },
        "id": "w69o6XeVp600",
        "outputId": "1a75cdbf-3ea5-41cd-aafb-9acecd62a75e"
      },
      "execution_count": 14,
      "outputs": [
        {
          "output_type": "stream",
          "name": "stdout",
          "text": [
            "key['qualification'] not found\n"
          ]
        }
      ]
    },
    {
      "cell_type": "code",
      "source": [
        "\"\"\"\n",
        "12. Write a program that demonstrates using multiple except blocks to handle\n",
        "different types of exceptions.\n",
        "\"\"\"\n",
        "user={\"name\":\"amit\",\"address\":\"nainital\"}\n",
        "try:\n",
        "  print(user[\"name\"])\n",
        "  user.pop()\n",
        "except KeyError as e:\n",
        "  print(f\"key[{e}] not found\")\n",
        "except TypeError as e:\n",
        "  print(e)\n",
        "except Exception as e:\n",
        "  print(e)\n"
      ],
      "metadata": {
        "colab": {
          "base_uri": "https://localhost:8080/"
        },
        "id": "iR0BxulTrLP4",
        "outputId": "572383ea-d9ad-4de8-9ad1-360b56d6bb22"
      },
      "execution_count": 17,
      "outputs": [
        {
          "output_type": "stream",
          "name": "stdout",
          "text": [
            "amit\n",
            "pop expected at least 1 argument, got 0\n"
          ]
        }
      ]
    },
    {
      "cell_type": "code",
      "source": [
        "\"\"\"\n",
        "13. How would you check if a file exists before attempting to read it in Python.\n",
        "\"\"\"\n",
        "\n",
        "import os\n",
        "\n",
        "if os.path.exists(\"data.txt\"):\n",
        "  print(\"file is exist\")\n",
        "else :\n",
        "  print(\"file is not exist\")\n"
      ],
      "metadata": {
        "colab": {
          "base_uri": "https://localhost:8080/"
        },
        "id": "agH-ug3grzO8",
        "outputId": "fe3a938d-d224-4573-e800-e7da784d5563"
      },
      "execution_count": 21,
      "outputs": [
        {
          "output_type": "stream",
          "name": "stdout",
          "text": [
            "file is exist\n"
          ]
        }
      ]
    },
    {
      "cell_type": "code",
      "source": [
        "\"\"\"\n",
        "14.  Write a program that uses the logging module to log both informational\n",
        "and error messages.\n",
        "\"\"\"\n",
        "import logging\n",
        "\n",
        "logging.basicConfig(filename=\"logfile.log\",\n",
        "                    format='%(asctime)s %(message)s',\n",
        "                    filemode='w', force=True)\n",
        "\n",
        "logger = logging.getLogger()\n",
        "logger.setLevel(logging.DEBUG)\n",
        "\n",
        "logger.info(\"Just an information\")\n",
        "logger.error(\"This is error message\")\n"
      ],
      "metadata": {
        "id": "JzK_tVVWtOOZ"
      },
      "execution_count": 23,
      "outputs": []
    },
    {
      "cell_type": "code",
      "source": [
        "\"\"\"\n",
        "15. Write a Python program that prints the content of a file and handles the\n",
        "case when the file is empty\n",
        "\"\"\"\n",
        "import os\n",
        "with open(\"abcd.txt\",'w') as file1:\n",
        "  pass\n",
        "\n",
        "with open(\"abcd.txt\") as file:\n",
        "  if os.path.getsize(\"abcd.txt\")==0:\n",
        "    print(\"file is empty\")\n",
        "  else:\n",
        "    print(file.read())"
      ],
      "metadata": {
        "colab": {
          "base_uri": "https://localhost:8080/"
        },
        "id": "oLefGaputoGt",
        "outputId": "e7329f0a-bb18-4aaf-ff37-8a08ce9dd37b"
      },
      "execution_count": 5,
      "outputs": [
        {
          "output_type": "stream",
          "name": "stdout",
          "text": [
            "file is empty\n"
          ]
        }
      ]
    },
    {
      "cell_type": "code",
      "source": [
        "\"\"\"\n",
        "16. Demonstrate how to use memory profiling to check the memory usage of a\n",
        "small program\n",
        "\"\"\"\n",
        "#!pip install memory-profiler\n",
        "\n",
        "from memory_profiler import memory_usage\n",
        "\n",
        "def memory_profile():\n",
        "  lt=[]\n",
        "  with open(\"data.txt\") as file:\n",
        "    for i in range(1,1000):\n",
        "        lt.append(i)\n",
        "    return \"end\"\n",
        "\n",
        "mem_usage = memory_usage((memory_profile, ))\n",
        "print(mem_usage)\n",
        "\n",
        "memory_profile()\n",
        "#%mprun -f memory_profile memory_profile()\n"
      ],
      "metadata": {
        "colab": {
          "base_uri": "https://localhost:8080/",
          "height": 53
        },
        "id": "2SZy0fCLwYOf",
        "outputId": "d485d691-dfb8-4676-e06f-fd91c6daad23"
      },
      "execution_count": 30,
      "outputs": [
        {
          "output_type": "stream",
          "name": "stdout",
          "text": [
            "[291.11328125, 291.11328125, 291.11328125]\n"
          ]
        },
        {
          "output_type": "execute_result",
          "data": {
            "text/plain": [
              "'end'"
            ],
            "application/vnd.google.colaboratory.intrinsic+json": {
              "type": "string"
            }
          },
          "metadata": {},
          "execution_count": 30
        }
      ]
    },
    {
      "cell_type": "code",
      "source": [
        "\"\"\"\n",
        "17. Write a Python program to create and write a list of numbers to a file,\n",
        "one number per line\n",
        "\"\"\"\n",
        "with open(\"data_new.txt\",'w') as file:\n",
        "  for i in range(1,5):\n",
        "    file.write(f\"{i}\\n\")\n",
        "\n",
        "with open(\"data_new.txt\") as file:\n",
        "  print(file.read())\n"
      ],
      "metadata": {
        "colab": {
          "base_uri": "https://localhost:8080/"
        },
        "id": "OBAnrlk-TnXH",
        "outputId": "974b6be5-5156-46ca-b495-4251f08edaa1"
      },
      "execution_count": 17,
      "outputs": [
        {
          "output_type": "stream",
          "name": "stdout",
          "text": [
            "1\n",
            "2\n",
            "3\n",
            "4\n",
            "\n"
          ]
        }
      ]
    },
    {
      "cell_type": "code",
      "source": [
        "\"\"\"\n",
        "18. How would you implement a basic logging setup that logs to a file with\n",
        "rotation after 1MB\n",
        "\"\"\"\n",
        "\n",
        "import logging\n",
        "from logging.handlers import RotatingFileHandler\n",
        "\n",
        "handler = RotatingFileHandler(\"/content/logfile.log\", maxBytes=1_000_000, backupCount=5)\n",
        "handler.setFormatter(logging.Formatter('%(asctime)s %(message)s'))\n",
        "\n",
        "logger = logging.getLogger()\n",
        "logger.setLevel(logging.DEBUG)\n",
        "logger.addHandler(handler)\n",
        "\n",
        "logger.debug(\"Harmless debug Message\")\n",
        "logger.info(\"Just an information\")\n",
        "logger.warning(\"Its a Warning\")\n",
        "logger.error(\"Did you try to divide by zero\")\n",
        "logger.critical(\"Internet is down\")\n",
        "\n",
        "!cat /content/logfile.log"
      ],
      "metadata": {
        "colab": {
          "base_uri": "https://localhost:8080/"
        },
        "id": "CCQVpx1hTtQG",
        "outputId": "f23e8430-4272-4f6c-ffd1-503bd701ad89"
      },
      "execution_count": 21,
      "outputs": [
        {
          "output_type": "stream",
          "name": "stdout",
          "text": [
            "2025-06-30 10:43:24,213 [Errno 2] No such file or directory: 'myfile.txt'\n",
            "2025-06-30 11:29:13,972 Harmless debug Message\n",
            "2025-06-30 11:29:13,974 Just an information\n",
            "2025-06-30 11:29:13,974 Its a Warning\n",
            "2025-06-30 11:29:13,975 Did you try to divide by zero\n",
            "2025-06-30 11:29:13,975 Internet is down\n",
            "2025-06-30 11:29:44,087 Harmless debug Message\n",
            "2025-06-30 11:29:44,088 Just an information\n",
            "2025-06-30 11:29:44,088 Its a Warning\n",
            "2025-06-30 11:29:44,089 Did you try to divide by zero\n",
            "2025-06-30 11:29:44,089 Internet is down\n",
            "2025-06-30 11:29:48,926 Harmless debug Message\n",
            "2025-06-30 11:29:48,926 Just an information\n",
            "2025-06-30 11:29:48,926 Its a Warning\n",
            "2025-06-30 11:29:48,927 Did you try to divide by zero\n",
            "2025-06-30 11:29:48,927 Internet is down\n",
            "rnet is down\n",
            "2025-06-30 11:29:44,089 Internet is down\n",
            "2025-06-30 11:29:48,926 Harmless debug Message\n",
            "2025-06-30 11:29:48,926 Harmless debug Message\n",
            "2025-06-30 11:29:48,926 Harmless debug Message\n",
            "2025-06-30 11:29:48,926 Just an information\n",
            "2025-06-30 11:29:48,926 Just an information\n",
            "2025-06-30 11:29:48,926 Just an information\n",
            "2025-06-30 11:29:48,926 Its a Warning\n",
            "2025-06-30 11:29:48,926 Its a Warning\n",
            "2025-06-30 11:29:48,926 Its a Warning\n",
            "2025-06-30 11:29:48,927 Did you try to divide by zero\n",
            "2025-06-30 11:29:48,927 Did you try to divide by zero\n",
            "2025-06-30 11:29:48,927 Did you try to divide by zero\n",
            "2025-06-30 11:29:48,927 Internet is down\n",
            "2025-06-30 11:29:48,927 Internet is down\n",
            "2025-06-30 11:29:48,927 Internet is down\n"
          ]
        }
      ]
    },
    {
      "cell_type": "code",
      "source": [
        "\"\"\"\n",
        "19. Write a program that handles both IndexError and KeyError using a\n",
        "try-except block\n",
        "\"\"\"\n",
        "user={\"name\":\"amit\",\"address\":\"nainital\"}\n",
        "data=[4,9,5,3]\n",
        "try:\n",
        "  print(data[7])\n",
        "  print(user[\"qualification\"])\n",
        "except KeyError as e:\n",
        "  print(f\"key[{e}] not found\")\n",
        "except IndexError as e:\n",
        "  print(e)"
      ],
      "metadata": {
        "colab": {
          "base_uri": "https://localhost:8080/"
        },
        "id": "GmeZJk5LTwc9",
        "outputId": "0019f4ff-ef67-4a89-8bc5-6b83c9a4a4b4"
      },
      "execution_count": 22,
      "outputs": [
        {
          "output_type": "stream",
          "name": "stdout",
          "text": [
            "list index out of range\n"
          ]
        }
      ]
    },
    {
      "cell_type": "code",
      "source": [
        "\"\"\"\n",
        "20. How would you open a file and read its contents using a context manager\n",
        "in Python\n",
        "\"\"\"\n",
        "with open(\"textFile.txt\") as file:\n",
        "  print(file.read())"
      ],
      "metadata": {
        "id": "0lqHN2fKTzhC"
      },
      "execution_count": null,
      "outputs": []
    },
    {
      "cell_type": "code",
      "source": [
        "\"\"\"\n",
        "21. Write a Python program that reads a file and prints the number of\n",
        "occurrences of a specific word\n",
        "\"\"\"\n",
        "#data on file\n",
        "data=\"\"\"\n",
        "Video provides a powerful way to help you prove your point.\n",
        "When you click Online Video, you can paste in the embed code for\n",
        "the video you want to add. You can also type a keyword to search\n",
        "online for the video that best fits your document.\n",
        "To make your document look professionally produced, Word provides\n",
        "header, footer, cover page, and text box designs that complement each other.\n",
        "For example, you can add a matching cover page, header, and sidebar.\n",
        "Click Insert and then choose the elements you want from the different galleries.\n",
        "\"\"\"\n",
        "\n",
        "with open('file_data11.txt','w') as file:\n",
        "  file.write(data)\n",
        "\n",
        "with open(\"file_data11.txt\") as file:\n",
        "  data=file.read().lower()\n",
        "  print(data.count(\"you\"))\n"
      ],
      "metadata": {
        "colab": {
          "base_uri": "https://localhost:8080/"
        },
        "id": "ISreipu1T2Bh",
        "outputId": "e43793a4-b229-4fb7-deb4-96c2b257f5a3"
      },
      "execution_count": 7,
      "outputs": [
        {
          "output_type": "stream",
          "name": "stdout",
          "text": [
            "10\n"
          ]
        }
      ]
    },
    {
      "cell_type": "code",
      "source": [
        "\"\"\"\n",
        "22.  How can you check if a file is empty before attempting to read its contents\n",
        "\"\"\"\n",
        "import os\n",
        "with open(\"data.txt\") as file:\n",
        "  if os.path.getsize(\"data.txt\")==0:\n",
        "    print(\"file is empty\")\n",
        "  else:\n",
        "    print(file.read())"
      ],
      "metadata": {
        "id": "tgwHpM4cT5KD"
      },
      "execution_count": null,
      "outputs": []
    },
    {
      "cell_type": "code",
      "source": [
        "\"\"\"\n",
        "23. Write a Python program that writes to a log file when an error occurs\n",
        "during file handling\n",
        "\"\"\"\n",
        "import logging\n",
        "\n",
        "logging.basicConfig(filename=\"/content/logfile.log\",\n",
        "                    format='%(asctime)s %(message)s',\n",
        "                    filemode='w', force=True)\n",
        "\n",
        "logger = logging.getLogger()\n",
        "logger.setLevel(logging.DEBUG)\n",
        "\n",
        "try:\n",
        "  with open(\"myfile.txt\") as file:\n",
        "    print(file.read())\n",
        "except FileNotFoundError as e:\n",
        "  logger.error(e)\n",
        "\n",
        "!cat /content/logfile.log"
      ],
      "metadata": {
        "colab": {
          "base_uri": "https://localhost:8080/"
        },
        "id": "4QJGL1cFT7nC",
        "outputId": "e2d76432-3043-4593-997a-a6b5b9cf7df6"
      },
      "execution_count": 11,
      "outputs": [
        {
          "output_type": "stream",
          "name": "stdout",
          "text": [
            "2025-06-30 10:43:24,213 [Errno 2] No such file or directory: 'myfile.txt'\n"
          ]
        }
      ]
    },
    {
      "cell_type": "code",
      "source": [],
      "metadata": {
        "id": "_Qmidulsbfau"
      },
      "execution_count": null,
      "outputs": []
    }
  ]
}