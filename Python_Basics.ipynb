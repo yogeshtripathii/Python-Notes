{
  "nbformat": 4,
  "nbformat_minor": 0,
  "metadata": {
    "colab": {
      "provenance": []
    },
    "kernelspec": {
      "name": "python3",
      "display_name": "Python 3"
    },
    "language_info": {
      "name": "python"
    }
  },
  "cells": [
    {
      "cell_type": "markdown",
      "source": [
        "# Python Basics"
      ],
      "metadata": {
        "id": "UxiWJFsOUTHp"
      }
    },
    {
      "cell_type": "markdown",
      "source": [
        "1. What is Python, and why is it popular?\n",
        "\n",
        "  -  Python is general purpose, high-level, dynamic and open-source programming langauge. It is easy to understand. It is popular for its simplicity and large community base.\n",
        "\n",
        "  - It has a very huge library and framework which help in developing fast our application."
      ],
      "metadata": {
        "id": "_LCEy69wUdIz"
      }
    },
    {
      "cell_type": "markdown",
      "source": [
        "2. What is an interpreter in Python ?\n",
        "  - **Interperator** is a software or a program that convert the highe level code to machine level code. It execute the code line by line."
      ],
      "metadata": {
        "id": "mnio2wGYcKph"
      }
    },
    {
      "cell_type": "markdown",
      "source": [],
      "metadata": {
        "id": "cYu3AluUbs62"
      }
    },
    {
      "cell_type": "markdown",
      "source": [
        "3. What are pre-defined keywords in Python?\n",
        "  - **Pre-defined keywords or keywords** are the reserved words which convey some special meaning. Example are: def, if, None, True, global, yield for etc."
      ],
      "metadata": {
        "id": "opl0Kk51bvab"
      }
    },
    {
      "cell_type": "markdown",
      "source": [
        "4. Can keywords be used as variable names?\n",
        "  - **No keywords** cannot be used as an variable name or function names. If we try to do then it gives us an syntax error."
      ],
      "metadata": {
        "id": "x8_jnzNTb5Op"
      }
    },
    {
      "cell_type": "markdown",
      "source": [
        "5. What is mutability in Python ?\n",
        "  - **Mutability** in python means a data structure can be change or modified. Ex: list, set, dictionary."
      ],
      "metadata": {
        "id": "uFPCcVfkcDpJ"
      }
    },
    {
      "cell_type": "markdown",
      "source": [
        "\n",
        "6. Why are lists mutable, but tuples are immutable ?\n",
        "  - **List is muatble** because we can modify it like we can change the value, add the value or can remove the value.\n",
        "  - **Tuple is immutable** because it does not allow the modification."
      ],
      "metadata": {
        "id": "NGSmtsOYcIVV"
      }
    },
    {
      "cell_type": "markdown",
      "source": [
        "7. What is the difference between “==” and “is” operators in Python ?\n",
        "  - \"==\" compares the value only.\n",
        "  - **\"is\"** it compare the memory address of variable or check if 2 variable pointing to same address."
      ],
      "metadata": {
        "id": "A6FUgPppcoqq"
      }
    },
    {
      "cell_type": "markdown",
      "source": [
        "8. What are logical operators in Python ?\n",
        "  - **Logical operators** are used to perform logical calculation on boolean expression and provide a overall answer on the basis of truth table. They are: and, or , not."
      ],
      "metadata": {
        "id": "ThFtJ3Cjd_ks"
      }
    },
    {
      "cell_type": "markdown",
      "source": [
        "9. What is type casting in Python?\n",
        "  - **Type casting refers** to the changing of data types from one form to another so that we can perform any manipulation or any operation on data. Python has some inbuilt function to do this like: int(), float(), str(), list(), set(), tuple(), dict()."
      ],
      "metadata": {
        "id": "avDiJAL_fGxN"
      }
    },
    {
      "cell_type": "markdown",
      "source": [
        "10. What is the difference between implicit and explicit type casting?\n",
        "  - **Implicit type casting** means that the language itself choose the appropriate data type without programmer intereption. ex: 4 + 2.5 will give 6.5 that is float.\n",
        "  - **Explicit type casting** means that a programmer will choose any appropriate function to change the datatype."
      ],
      "metadata": {
        "id": "raTrUyzjf1UC"
      }
    },
    {
      "cell_type": "markdown",
      "source": [
        "11. What is the purpose of conditional statements in Python?\n",
        "  - **Conditional statement** are used to execute the part of code when a particular condition is satisfy. They control the flow of execution of statments.\n",
        "  - They are if, else , elif."
      ],
      "metadata": {
        "id": "KJcEGG_Rg8Ea"
      }
    },
    {
      "cell_type": "markdown",
      "source": [
        "12. How does the elif statement work?\n",
        "  - **elif statement** is used when we have multiple condition and the first if condition is not satisfied and we nedd to check another condtion than elif is used."
      ],
      "metadata": {
        "id": "xOViAwzIhwjl"
      }
    },
    {
      "cell_type": "markdown",
      "source": [
        "13.  What is the difference between for and while loops?\n",
        "  - **for loop** is used when we know how many time we a loop will run in advance.\n",
        "  - **while loop** is used when we dont the the number of repetition of loop.\n"
      ],
      "metadata": {
        "id": "gKFPsaIFiJtk"
      }
    },
    {
      "cell_type": "markdown",
      "source": [
        " 14. Describe a scenario where a while loop is more suitable than a for loop.\n",
        "  - If we want to find the number of digits in a number without any inbuilt function or typecasting in that scenerio we can use while loop."
      ],
      "metadata": {
        "id": "p90SUfaQi8Ng"
      }
    },
    {
      "cell_type": "markdown",
      "source": [
        "# Practical"
      ],
      "metadata": {
        "id": "nuwbblTwG-0w"
      }
    },
    {
      "cell_type": "code",
      "source": [
        "# 1. Write a Python program to print \"Hello, World!\n",
        "print(\"Hello, World!\")"
      ],
      "metadata": {
        "id": "PZU0wkEAdp8p",
        "colab": {
          "base_uri": "https://localhost:8080/"
        },
        "outputId": "f0b7908f-f761-4baa-c012-19dacaebdd70"
      },
      "execution_count": null,
      "outputs": [
        {
          "output_type": "stream",
          "name": "stdout",
          "text": [
            "Hello, World!\n"
          ]
        }
      ]
    },
    {
      "cell_type": "code",
      "source": [
        "# 2. Write a Python program that displays your name and age\n",
        "name=input(\"enter the name : \")\n",
        "age=int(input(\"enter the age : \"))\n",
        "print(f'{name} {age}')"
      ],
      "metadata": {
        "colab": {
          "base_uri": "https://localhost:8080/"
        },
        "id": "sbuZTeJkH8dN",
        "outputId": "a7f41012-25d2-467c-c13a-79a0695d71f0"
      },
      "execution_count": null,
      "outputs": [
        {
          "output_type": "stream",
          "name": "stdout",
          "text": [
            "enter the name : yogesh\n",
            "enter the age : 32\n",
            "yogesh 32\n"
          ]
        }
      ]
    },
    {
      "cell_type": "code",
      "source": [
        "# 3. Write code to print all the pre-defined keywords in Python using the keyword library\n",
        "import keyword as kwd\n",
        "print(kwd.kwlist)"
      ],
      "metadata": {
        "colab": {
          "base_uri": "https://localhost:8080/"
        },
        "id": "5S0LfnuIIOQ2",
        "outputId": "215f0458-260a-4059-a74f-98fd3e694015"
      },
      "execution_count": null,
      "outputs": [
        {
          "output_type": "stream",
          "name": "stdout",
          "text": [
            "['False', 'None', 'True', 'and', 'as', 'assert', 'async', 'await', 'break', 'class', 'continue', 'def', 'del', 'elif', 'else', 'except', 'finally', 'for', 'from', 'global', 'if', 'import', 'in', 'is', 'lambda', 'nonlocal', 'not', 'or', 'pass', 'raise', 'return', 'try', 'while', 'with', 'yield']\n"
          ]
        }
      ]
    },
    {
      "cell_type": "code",
      "source": [
        "# 4. Write a program that checks if a given word is a Python keyword.\n",
        "word=input(\"enter the word to check keyword or not : \")\n",
        "result= \"Keyword\" if word in kwd.kwlist else \"Not keyword\"\n",
        "print(result)"
      ],
      "metadata": {
        "colab": {
          "base_uri": "https://localhost:8080/"
        },
        "id": "-JwaZ-pCIaaM",
        "outputId": "d6786463-8558-45d4-f72a-cfd054f46be5"
      },
      "execution_count": null,
      "outputs": [
        {
          "output_type": "stream",
          "name": "stdout",
          "text": [
            "enter the word to check keyword or not : Def\n",
            "Not keyword\n"
          ]
        }
      ]
    },
    {
      "cell_type": "code",
      "source": [
        "# 5. Create a list and tuple in Python, and demonstrate how attempting to change an element works differently for each.\n",
        "lst=[4,7,4,6,8]\n",
        "print(f'Before changing list : {lst}')\n",
        "#adding element in the list\n",
        "lst.insert(2,100)\n",
        "print(f'After changing list : {lst}')\n",
        "tpl=(7,6,7,3,5)\n",
        "print(f'Before chnaging tuple : {tpl}')\n",
        "# we cannot change the tuple directly\n"
      ],
      "metadata": {
        "colab": {
          "base_uri": "https://localhost:8080/"
        },
        "id": "JQ3B9LsvJik5",
        "outputId": "8c387cc9-4f9c-436f-d5e1-38767730c2e9"
      },
      "execution_count": null,
      "outputs": [
        {
          "output_type": "stream",
          "name": "stdout",
          "text": [
            "Before changing list : [4, 7, 4, 6, 8]\n",
            "After changing list : [4, 7, 100, 4, 6, 8]\n",
            "Before chnaging tuple : (7, 6, 7, 3, 5)\n"
          ]
        }
      ]
    },
    {
      "cell_type": "code",
      "source": [
        "# 6. Write a function to demonstrate the behavior of mutable and immutable arguments.\n",
        "\n",
        "def fun(x):\n",
        "  x=x+5\n",
        "  print(f'value of x inside function is : {x}')\n",
        "\n",
        "def fun1(y):\n",
        "  y.append(10)\n",
        "  print(f'value of list inside function is : {y}')\n",
        "\n",
        "a=5\n",
        "b=[6,4]\n",
        "\n",
        "fun(a)\n",
        "print(f'value of a after function is : {a}')\n",
        "fun1(b)\n",
        "print(f'value of b after function is : {b}')\n",
        "\n",
        "\n"
      ],
      "metadata": {
        "id": "RrkKm8RvK-cK",
        "colab": {
          "base_uri": "https://localhost:8080/"
        },
        "outputId": "2a599369-4e65-4e8a-a348-0f3cedbc6101"
      },
      "execution_count": null,
      "outputs": [
        {
          "output_type": "stream",
          "name": "stdout",
          "text": [
            "value of x inside function is : 10\n",
            "value of a after function is : 5\n",
            "value of list inside function is : [6, 4, 10]\n",
            "value of b after function is : [6, 4, 10]\n"
          ]
        }
      ]
    },
    {
      "cell_type": "code",
      "source": [
        "# 7.  Write a program that performs basic arithmetic operations on two user-input numbers.\n",
        "x=eval(input(\"enter the number 1 : \"))\n",
        "y=eval(input(\"enter the number 2 : \"))\n",
        "print(f'{x}+{y}={x+y}')\n",
        "print(f'{x}-{y}={x-y}')\n",
        "print(f'{x}*{y}={x*y}')\n",
        "print(f'{x}/{y}={x/y}')\n",
        "print(f'{x}//{y}={x//y}')\n",
        "print(f'{x}%{y}={x%y}')\n",
        "print(f'{x}**{y}={x**y}')"
      ],
      "metadata": {
        "colab": {
          "base_uri": "https://localhost:8080/"
        },
        "id": "bwGVdULW2cMz",
        "outputId": "69b46223-256a-4cef-8f00-852544425df2"
      },
      "execution_count": null,
      "outputs": [
        {
          "output_type": "stream",
          "name": "stdout",
          "text": [
            "enter the number 1 : 2\n",
            "enter the number 2 : 3\n",
            "2+3=5\n",
            "2-3=-1\n",
            "2*3=6\n",
            "2/3=0.6666666666666666\n",
            "2//3=0\n",
            "2%3=2\n",
            "2**3=8\n"
          ]
        }
      ]
    },
    {
      "cell_type": "code",
      "source": [
        "#8. Write a program to demonstrate the use of logical operators.\n",
        "x,y,z=5,9,'python'\n",
        "if x>y and z=='python':\n",
        "  print(\"It is true because both condition is satisfy\")\n",
        "\n",
        "if x>y or z=='python':\n",
        "  print(\"It is true because any of one condition is satisfy\")\n",
        "\n"
      ],
      "metadata": {
        "colab": {
          "base_uri": "https://localhost:8080/"
        },
        "id": "rYMHXJe83wFl",
        "outputId": "aaa0a198-f820-45e3-9689-d6340a9822bc"
      },
      "execution_count": null,
      "outputs": [
        {
          "output_type": "stream",
          "name": "stdout",
          "text": [
            "It is true because any of one condition is satisfy\n"
          ]
        }
      ]
    },
    {
      "cell_type": "code",
      "source": [
        "#9. Write a Python program to convert user input from string to integer, float, and boolean types.\n",
        "integer_value=int(input(\"enter the number \"))\n",
        "print(integer_value,type(integer_value))\n",
        "float_value=float(input(\"enter the number \"))\n",
        "print(float_value,type(float_value))\n",
        "boolean_value=bool(input(\"enter the number \"))\n",
        "print(boolean_value,type(boolean_value))"
      ],
      "metadata": {
        "colab": {
          "base_uri": "https://localhost:8080/"
        },
        "id": "TkGXbbo85jw8",
        "outputId": "d3f1c171-1ff0-4604-a5bc-b4715b58d7dc"
      },
      "execution_count": null,
      "outputs": [
        {
          "output_type": "stream",
          "name": "stdout",
          "text": [
            "enter the number 6\n",
            "6 <class 'int'>\n",
            "enter the number 3\n",
            "3.0 <class 'float'>\n",
            "enter the number python\n",
            "True <class 'bool'>\n"
          ]
        }
      ]
    },
    {
      "cell_type": "code",
      "source": [
        "#10.  Write code to demonstrate type casting with list elements.\n",
        "x=[9,4,3,4]\n",
        "print(f'list to tuple ',tuple(x))\n",
        "print(f'list to string ',str(x))\n",
        "print(f'list to set ',set(x))"
      ],
      "metadata": {
        "colab": {
          "base_uri": "https://localhost:8080/"
        },
        "id": "-Mq2KCqq6Qjy",
        "outputId": "da77f2fe-adf6-4d8d-ea77-690dfadabd1b"
      },
      "execution_count": null,
      "outputs": [
        {
          "output_type": "stream",
          "name": "stdout",
          "text": [
            "list to tuple  (9, 4, 3, 4)\n",
            "list to string  [9, 4, 3, 4]\n",
            "list to set  {9, 3, 4}\n"
          ]
        }
      ]
    },
    {
      "cell_type": "code",
      "source": [
        "#11.  Write a program that checks if a number is positive, negative, or zero\n",
        "x=int(input('enter the number '))\n",
        "if x==0:\n",
        "  print(\"number is 0\")\n",
        "elif x>1:\n",
        "  print(\"number is +ive\")\n",
        "else:\n",
        "  print('number is -ive')"
      ],
      "metadata": {
        "colab": {
          "base_uri": "https://localhost:8080/"
        },
        "id": "yI75J0Zp7FVj",
        "outputId": "f9fc531f-04ee-4894-f6bf-e609c0bc2318"
      },
      "execution_count": null,
      "outputs": [
        {
          "output_type": "stream",
          "name": "stdout",
          "text": [
            "enter the number -6\n",
            "number is -ive\n"
          ]
        }
      ]
    },
    {
      "cell_type": "code",
      "source": [
        "#12. Write a for loop to print numbers from 1 to 10\n",
        "for i in range(1,11):\n",
        "  print(i,end=\" \")"
      ],
      "metadata": {
        "colab": {
          "base_uri": "https://localhost:8080/"
        },
        "id": "c5tzXat279k7",
        "outputId": "510867a5-46a5-4ab5-e7e4-cc506258ff31"
      },
      "execution_count": null,
      "outputs": [
        {
          "output_type": "stream",
          "name": "stdout",
          "text": [
            "1 2 3 4 5 6 7 8 9 10 "
          ]
        }
      ]
    },
    {
      "cell_type": "code",
      "source": [
        "#13. Write a Python program to find the sum of all even numbers between 1 and 50.\n",
        "sm=0\n",
        "for i in range(1,51):\n",
        "  if i%2==0:\n",
        "    sm+=i\n",
        "print(sm)"
      ],
      "metadata": {
        "colab": {
          "base_uri": "https://localhost:8080/"
        },
        "id": "i6sTluGP8KPM",
        "outputId": "99cd5930-421a-4f5f-8d63-160f58d95660"
      },
      "execution_count": null,
      "outputs": [
        {
          "output_type": "stream",
          "name": "stdout",
          "text": [
            "650\n"
          ]
        }
      ]
    },
    {
      "cell_type": "code",
      "source": [
        "#14.  Write a program to reverse a string using a while loop\n",
        "string=input(\"enter the string \")\n",
        "length=len(string)\n",
        "rev_string=''\n",
        "while length>0:\n",
        "  rev_string=string[::-1]\n",
        "  length=length-1\n",
        "print(rev_string)"
      ],
      "metadata": {
        "colab": {
          "base_uri": "https://localhost:8080/"
        },
        "id": "Db6WwQjw8W-e",
        "outputId": "d5b87461-ba00-4079-9380-18c0dac8ab70"
      },
      "execution_count": null,
      "outputs": [
        {
          "output_type": "stream",
          "name": "stdout",
          "text": [
            "enter the string python\n",
            "nohtyp\n"
          ]
        }
      ]
    },
    {
      "cell_type": "code",
      "source": [
        "#15. Write a Python program to calculate the factorial of a number provided by the user using a while loop\n",
        "number=int(input(\"enter the number \"))\n",
        "f=1\n",
        "while number>0:\n",
        "  f=f*number\n",
        "  number=number-1\n",
        "print(f)"
      ],
      "metadata": {
        "colab": {
          "base_uri": "https://localhost:8080/"
        },
        "id": "VC83XKNZ9STP",
        "outputId": "10ca5f15-3bfd-40cf-b32d-ad21bbeb4f7b"
      },
      "execution_count": null,
      "outputs": [
        {
          "output_type": "stream",
          "name": "stdout",
          "text": [
            "enter the number 4\n",
            "24\n"
          ]
        }
      ]
    },
    {
      "cell_type": "code",
      "source": [],
      "metadata": {
        "id": "kRAwIMZ5-CpS"
      },
      "execution_count": null,
      "outputs": []
    }
  ]
}