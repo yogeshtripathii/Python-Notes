{
  "cells": [
    {
      "cell_type": "markdown",
      "metadata": {
        "id": "zFcK3IPO-70l"
      },
      "source": [
        "# **Theory Questions**"
      ]
    },
    {
      "cell_type": "markdown",
      "metadata": {
        "id": "xrb049Lh_DHd"
      },
      "source": [
        "1. **Key Differences Between SQL and NoSQL Databases?**\n",
        "  > SQL: Data stored in table-based structure, uses schema and good for complex queries.\n",
        "\n",
        "  > NoSQL: Data stored in document/graph/key-value based, schema-less, good for fast and scalable apps."
      ]
    },
    {
      "cell_type": "markdown",
      "metadata": {
        "id": "sOvDpPTo_lkB"
      },
      "source": [
        "2. **What Makes MongoDB Good for Modern Applications**\n",
        "  > Since mongoDB is flexible , easy to scale and handles large amounts of data, its is good for large and rapid application growth."
      ]
    },
    {
      "cell_type": "markdown",
      "metadata": {
        "id": "St1RYMrnAG_9"
      },
      "source": [
        "3. **Concept of Collections in MongoDB?**\n",
        "  > A collection is like a table in SQL. It holds multiple documents in MongoDB."
      ]
    },
    {
      "cell_type": "markdown",
      "metadata": {
        "id": "ZrkLkbpFArOS"
      },
      "source": [
        "4. **How MongoDB Ensures High Availability Using Replication?**\n",
        "  > MongoDB uses replication sets that maintain the same data set with one primary and multiple secondary nodes. If the primary fails, a secondary takes over."
      ]
    },
    {
      "cell_type": "markdown",
      "metadata": {
        "id": "Kc_6j5kOC6zr"
      },
      "source": [
        "5. **Main Benefits of MongoDB Atlas?**\n",
        "  > MongoDB Atlas provides an easy way to host and manage your data in the cloud."
      ]
    },
    {
      "cell_type": "markdown",
      "metadata": {
        "id": "7NT_45iVDPiV"
      },
      "source": [
        "6. **Role of Indexes in MongoDB?**\n",
        "  > Indexes speed up data searches. Without indexes, MongoDB scans every document which makemit slow to search data.\n",
        "\n"
      ]
    },
    {
      "cell_type": "markdown",
      "metadata": {
        "id": "_x47caNAEDqs"
      },
      "source": [
        "7. **Stages of the MongoDB Aggregation Pipeline?**\n",
        "  > An aggregation pipeline consists of one or more stages that process documents: Each stage performs an operation on the input documents. Example- `$match`, `$group`, `$sort`, `$set`, `$unset`, `$limit`"
      ]
    },
    {
      "cell_type": "markdown",
      "metadata": {
        "id": "BJzgPDijFekq"
      },
      "source": [
        "8. **What is Sharding in MongoDB? How is it Different from Replication?**\n",
        "  > Sharding: Splits data across servers for load balancing.\n",
        "\n",
        "  > Replication: Copies data for backup and high availability."
      ]
    },
    {
      "cell_type": "markdown",
      "metadata": {
        "id": "uryKoGofFy6-"
      },
      "source": [
        "9. **What is PyMongo, and Why is it Used?**\n",
        "  > PyMongo is a python library to connect with MongoDB from Python apps.\n",
        "\n"
      ]
    },
    {
      "cell_type": "markdown",
      "metadata": {
        "id": "Ms6h_wgAGT1_"
      },
      "source": [
        "10. **ACID Properties in MongoDB Transactions?**\n",
        "  > Ensures Atomicity, Consistency, Isolation, Durability — like SQL, to make sure data is correct and safe during multi-document operations.\n"
      ]
    },
    {
      "cell_type": "markdown",
      "metadata": {
        "id": "k-ovyNDGGgbH"
      },
      "source": [
        "11. **Purpose of MongoDB’s explain() Function?**\n",
        "  > It shows how a query is executed and return information about the write information. Helps optimize performance by showing use of indexes, scan types, etc.\n"
      ]
    },
    {
      "cell_type": "markdown",
      "metadata": {
        "id": "GbluQavVHizG"
      },
      "source": [
        "12. **How MongoDB Handles Schema Validation?**\n",
        "  > By defining rules for documents like field types, required fields to control data structure."
      ]
    },
    {
      "cell_type": "markdown",
      "metadata": {
        "id": "9A1D5Ye5Huix"
      },
      "source": [
        "13. **Difference Between Primary and Secondary Node in Replica Set?**\n",
        "  > Primary: Accepts writes and reads.\n",
        "\n",
        "  > Secondary: Copies data from primary and can serve read-only queries."
      ]
    },
    {
      "cell_type": "markdown",
      "metadata": {
        "id": "K0wRLrIxHxg7"
      },
      "source": [
        "14. **Security Mechanisms MongoDB Provides?**\n",
        "  > It provides Authentication, authorization, encryption and auditing."
      ]
    },
    {
      "cell_type": "markdown",
      "metadata": {
        "id": "hjWHs22mJKFs"
      },
      "source": [
        "15. **Concept of Embedded Documents and When to Use Them?**\n",
        "  > This allows the storage of related data within a single parent document, creating a hierarchical data structure."
      ]
    },
    {
      "cell_type": "markdown",
      "metadata": {
        "id": "oQ0zh1F5JQG9"
      },
      "source": [
        "16. **Purpose of MongoDB’s $lookup in Aggregation?**\n",
        "  > It joins documents from another collection, like SQL joins."
      ]
    },
    {
      "cell_type": "markdown",
      "metadata": {
        "id": "umTu9lBXJStg"
      },
      "source": [
        "17. **Common Use Cases for MongoDB?**\n",
        "  > Real-time analytics, content management, IoT, mobile apps, product catalogs, user profiles."
      ]
    },
    {
      "cell_type": "markdown",
      "metadata": {
        "id": "vmeEG92rJU3R"
      },
      "source": [
        "18. **Advantages of MongoDB for Horizontal Scaling?**\n",
        "  > MongoDB achieves horizontal scaling using sharding. It distribute data across multiple machines to handle more traffic and data without slowing down."
      ]
    },
    {
      "cell_type": "markdown",
      "metadata": {
        "id": "sAqiPy6DJXrK"
      },
      "source": [
        "19. **How MongoDB Transactions Differ from SQL Transactions?**\n",
        "  > Similar in function, but MongoDB started supporting multi-document transactions more recently. Usually faster for single-document operations."
      ]
    },
    {
      "cell_type": "markdown",
      "metadata": {
        "id": "nKMaeMDwJZ_e"
      },
      "source": [
        "20. **Difference Between Capped Collections and Regular Collections?**\n",
        "  > Capped: Capped collections have a predefined, fixed size in bytes, or a maximum number of documents, established at creation.\n",
        "\n",
        "  > Regular: Regular collections grow dynamically as documents are added, with no predefined size limit."
      ]
    },
    {
      "cell_type": "markdown",
      "metadata": {
        "id": "Sp2zz31sJcYp"
      },
      "source": [
        "21. **Purpose of $match in Aggregation Pipeline?**\n",
        "  > It used to filters documents, based in the specific condition. It is similar to the find() query but operates within the aggregation."
      ]
    },
    {
      "cell_type": "markdown",
      "metadata": {
        "id": "on7d0xnaJfRr"
      },
      "source": [
        "22. **How to Secure Access to a MongoDB Database?**\n",
        "  > Use user roles, enable authentication, encrypt data, IP restrictions, and network security rules."
      ]
    },
    {
      "cell_type": "markdown",
      "metadata": {
        "id": "IB8a056QJjqr"
      },
      "source": [
        "23. **What is MongoDB’s WiredTiger Storage Engine and Why Important?**\n",
        "  > It is the default engine for mongoDB and offfers compression of files, for better performance, and concurrency."
      ]
    },
    {
      "cell_type": "markdown",
      "metadata": {
        "id": "ybK0K9CdOONK"
      },
      "source": [
        "# **Practical Questions**"
      ]
    },
    {
      "cell_type": "code",
      "execution_count": null,
      "metadata": {
        "colab": {
          "base_uri": "https://localhost:8080/"
        },
        "id": "cpVDJLkBD6v6",
        "outputId": "9843745d-199b-44bb-e5b5-ac0741762390"
      },
      "outputs": [
        {
          "name": "stdout",
          "output_type": "stream",
          "text": [
            "Collecting pymongo\n",
            "  Downloading pymongo-4.14.0-cp311-cp311-manylinux_2_17_x86_64.manylinux2014_x86_64.whl.metadata (22 kB)\n",
            "Collecting dnspython<3.0.0,>=1.16.0 (from pymongo)\n",
            "  Downloading dnspython-2.7.0-py3-none-any.whl.metadata (5.8 kB)\n",
            "Downloading pymongo-4.14.0-cp311-cp311-manylinux_2_17_x86_64.manylinux2014_x86_64.whl (1.4 MB)\n",
            "\u001b[2K   \u001b[90m━━━━━━━━━━━━━━━━━━━━━━━━━━━━━━━━━━━━━━━━\u001b[0m \u001b[32m1.4/1.4 MB\u001b[0m \u001b[31m20.8 MB/s\u001b[0m eta \u001b[36m0:00:00\u001b[0m\n",
            "\u001b[?25hDownloading dnspython-2.7.0-py3-none-any.whl (313 kB)\n",
            "\u001b[2K   \u001b[90m━━━━━━━━━━━━━━━━━━━━━━━━━━━━━━━━━━━━━━━━\u001b[0m \u001b[32m313.6/313.6 kB\u001b[0m \u001b[31m20.9 MB/s\u001b[0m eta \u001b[36m0:00:00\u001b[0m\n",
            "\u001b[?25hInstalling collected packages: dnspython, pymongo\n",
            "Successfully installed dnspython-2.7.0 pymongo-4.14.0\n"
          ]
        }
      ],
      "source": [
        "! pip install pymongo"
      ]
    },
    {
      "cell_type": "code",
      "execution_count": null,
      "metadata": {
        "colab": {
          "base_uri": "https://localhost:8080/"
        },
        "id": "3HDONnsF_kpw",
        "outputId": "5584cc1f-92e8-463a-cee7-413572b506c6"
      },
      "outputs": [
        {
          "output_type": "stream",
          "name": "stdout",
          "text": [
            "localhost:27017: [Errno 111] Connection refused (configured timeouts: socketTimeoutMS: 20000.0ms, connectTimeoutMS: 20000.0ms), Timeout: 30s, Topology Description: <TopologyDescription id: 68937fa1e24ba6f7d7c34ce2, topology_type: Unknown, servers: [<ServerDescription ('localhost', 27017) server_type: Unknown, rtt: None, error=AutoReconnect('localhost:27017: [Errno 111] Connection refused (configured timeouts: socketTimeoutMS: 20000.0ms, connectTimeoutMS: 20000.0ms)')>]>\n",
            "CSV data imported successfully using csv module.\n"
          ]
        }
      ],
      "source": [
        "'''\n",
        "1. Write a Python script to load the Superstore dataset from a CSV file into\n",
        "MongoDB\n",
        "'''\n",
        "import pymongo as mng\n",
        "import csv\n",
        "\n",
        "client = mng.MongoClient(\"mongodb://localhost:27017/\")\n",
        "db = client[\"superstore\"]\n",
        "collection = db[\"store\"]\n",
        "\n",
        "data_file= r\"/content/superstore.csv\"\n",
        "\n",
        "try:\n",
        "  with open(data_file, encoding='cp1252') as file:\n",
        "      reader = csv.DictReader(file)\n",
        "      for row in reader:\n",
        "          collection.insert_one(row)\n",
        "except Exception as e:\n",
        "  print(e)\n",
        "\n",
        "else:\n",
        "  print(\"Data imported Successfully\")"
      ]
    },
    {
      "cell_type": "code",
      "execution_count": null,
      "metadata": {
        "id": "rZGorxQAEmqN"
      },
      "outputs": [],
      "source": [
        "'''\n",
        "2. Retrieve and print all documents from the Orders collection\n",
        "'''\n",
        "orders = collection.find({})\n",
        "for order in orders:\n",
        "  print(order)\n"
      ]
    },
    {
      "cell_type": "code",
      "source": [
        "'''\n",
        "3. Count and display the total number of documents in the Orders collection\n",
        "'''\n",
        "total_documents = collection.count_documents({})\n",
        "print(f\"Total documents are:{total_documents}\")"
      ],
      "metadata": {
        "id": "FAo5cby8Lqwq"
      },
      "execution_count": null,
      "outputs": []
    },
    {
      "cell_type": "code",
      "source": [
        "'''\n",
        "4. Write a query to fetch all orders from the \"West\" region\n",
        "'''\n",
        "west_region = collection.find({\"Region\": \"West\"})\n",
        "for order in west_region:\n",
        "  print(order)"
      ],
      "metadata": {
        "id": "MUsa2Q_zLqbz"
      },
      "execution_count": null,
      "outputs": []
    },
    {
      "cell_type": "code",
      "source": [
        "'''\n",
        "5. Write a query to find orders where Sales is greater than 500\n",
        "'''\n",
        "sales = collection.find({\"$expr\": {\n",
        "        \"$gt\": [{\"$toDouble\": \"$Sales\"}, 500]\n",
        "    }})\n",
        "\n",
        "for order in sales:\n",
        "  print(order)\n"
      ],
      "metadata": {
        "id": "a4O2XTAbRKMC"
      },
      "execution_count": null,
      "outputs": []
    },
    {
      "cell_type": "code",
      "source": [
        "'''\n",
        "6. Fetch the top 3 orders with the highest Profit\n",
        "'''\n",
        "top_orders = collection.find().sort(\"Profit\", -1).limit(3)\n",
        "for order in top_orders:\n",
        "  print(order)\n"
      ],
      "metadata": {
        "id": "pmy9gQ8V1mfW"
      },
      "execution_count": null,
      "outputs": []
    },
    {
      "cell_type": "code",
      "source": [
        "'''\n",
        "7. Update all orders with Ship Mode as \"First Class\" to \"Premium Class.\n",
        "'''\n",
        "collection.update_many({\"Ship Mode\": \"First Class\"}, {\"$set\": {\"Ship Mode\": \"Premium Class\"}})"
      ],
      "metadata": {
        "id": "VVMChL2S1oy8"
      },
      "execution_count": null,
      "outputs": []
    },
    {
      "cell_type": "code",
      "source": [
        "'''\n",
        "8. Delete all orders where Sales is less than 50\n",
        "'''\n",
        "collection.delete_many({\n",
        "    \"$expr\": {\n",
        "        \"$lt\": [{\"$toDouble\": \"$Sales\"}, 50]\n",
        "    }\n",
        "})"
      ],
      "metadata": {
        "id": "W9iNFRq8R0DI"
      },
      "execution_count": null,
      "outputs": []
    },
    {
      "cell_type": "code",
      "source": [
        "'''\n",
        "9. Use aggregation to group orders by Region and calculate total sales per region\n",
        "''''\n",
        "region_sales = collection.aggregate([\n",
        "    {\n",
        "        \"$group\": {\n",
        "            \"_id\": \"$Region\",\n",
        "            \"Total Sales\": {\n",
        "                \"$sum\": { \"$toDouble\": \"$Sales\" }\n",
        "            }\n",
        "        }\n",
        "    }\n",
        "])\n",
        "for region in region_sales:\n",
        "  print(region)"
      ],
      "metadata": {
        "id": "OhkchQNP2PNb"
      },
      "execution_count": null,
      "outputs": []
    },
    {
      "cell_type": "code",
      "source": [
        "'''\n",
        "10. Fetch all distinct values for Ship Mode from the collection\n",
        "'''\n",
        "ship_modes = collection.distinct(\"Ship Mode\")\n",
        "print(ship_modes)"
      ],
      "metadata": {
        "id": "RuvxGdYD2gMe"
      },
      "execution_count": null,
      "outputs": []
    },
    {
      "cell_type": "code",
      "source": [
        "'''\n",
        "11. Count the number of orders for each category.\n",
        "'''\n",
        "category_counts = collection.aggregate([\n",
        "    {\"$group\": {\"_id\": \"$Category\", \"Count\": {\"$sum\": 1}}}\n",
        "])\n",
        "for category in category_counts:\n",
        "  print(category)"
      ],
      "metadata": {
        "id": "b03vl80i2iIu"
      },
      "execution_count": null,
      "outputs": []
    }
  ],
  "metadata": {
    "colab": {
      "provenance": []
    },
    "kernelspec": {
      "display_name": "Python 3",
      "name": "python3"
    },
    "language_info": {
      "name": "python"
    }
  },
  "nbformat": 4,
  "nbformat_minor": 0
}