{
  "nbformat": 4,
  "nbformat_minor": 0,
  "metadata": {
    "colab": {
      "provenance": []
    },
    "kernelspec": {
      "name": "python3",
      "display_name": "Python 3"
    },
    "language_info": {
      "name": "python"
    }
  },
  "cells": [
    {
      "cell_type": "markdown",
      "source": [
        "# Theory Questions"
      ],
      "metadata": {
        "id": "ptFXa_QeyyKw"
      }
    },
    {
      "cell_type": "markdown",
      "source": [
        "1.  What are data structures, and why are they important.\n",
        "  *   **Data Structures** are tools through which we can organize, store and access the data. They provide an efficient way to do this. By choosing right data structure we cnan optimize our sorting, searching and memory."
      ],
      "metadata": {
        "id": "7U_Dv35ty7xm"
      }
    },
    {
      "cell_type": "markdown",
      "source": [
        "2. Explain the difference between mutable and immutable data types with examples\n",
        "  *   **Mutable datatypes** are those which can be modify or change. Example: list,set, dictionary.\n",
        "  *   **Immutable datatypes** are those which cannot be modify or change. Example: tuple, string.\n",
        "\n"
      ],
      "metadata": {
        "id": "pq85Q0r5z52W"
      }
    },
    {
      "cell_type": "markdown",
      "source": [
        "3.  What are the main differences between lists and tuples in Python.\n",
        "    * The main difference between lists and tuple is that the list can be modify after creation but tuple cannot be modify.\n",
        ""
      ],
      "metadata": {
        "id": "kJ3_LgCj0f56"
      }
    },
    {
      "cell_type": "markdown",
      "source": [
        "4. Describe how dictionaries store data.\n",
        "    * **Dictionaries** stores data in the form of key value pair, where key need to be unique. It is ordered after 3.6 version and before is unordered."
      ],
      "metadata": {
        "id": "kvCjjfsG1XNu"
      }
    },
    {
      "cell_type": "markdown",
      "source": [
        "5. Why might you use a set instead of a list in Python.\n",
        "    * We use **set** inplace of list when we need that the element cannot be repeated and also unique.\n",
        ""
      ],
      "metadata": {
        "id": "GTx6gZxz1_Lp"
      }
    },
    {
      "cell_type": "markdown",
      "source": [
        "6. What is a string in Python, and how is it different from a list.\n",
        "    * **String** is the collection of characters. String cannot be modify but list can. List can contain any datatype of value but value in string is always string.\n",
        ""
      ],
      "metadata": {
        "id": "YaJUnXII2OAQ"
      }
    },
    {
      "cell_type": "markdown",
      "source": [
        "7. How do tuples ensure data integrity in Python\n",
        "    * **Tuples** ensure data integrity as it cannot be modified after creation."
      ],
      "metadata": {
        "id": "Cu5ztrDM28H3"
      }
    },
    {
      "cell_type": "markdown",
      "source": [
        "8. What is a hash table, and how does it relate to dictionaries in Python.\n",
        "    * **Hash Table** is also known as hashmap or dictionaries, in which data is stored as key value, the key is map with its value with the help of hash function.\n"
      ],
      "metadata": {
        "id": "GhYbfd0g4HhD"
      }
    },
    {
      "cell_type": "markdown",
      "source": [
        "9.  Can lists contain different data types in Python.\n",
        "    * **Yes**, list can store different types of data."
      ],
      "metadata": {
        "id": "IMViCWod4tmG"
      }
    },
    {
      "cell_type": "markdown",
      "source": [
        "10. Explain why strings are immutable in Python.\n",
        "    * To secure data and integrity in language, so that it cannot be modify. Therefore strings are immutable."
      ],
      "metadata": {
        "id": "FwZD6fns5MuT"
      }
    },
    {
      "cell_type": "markdown",
      "source": [
        "11. What advantages do dictionaries offer over lists for certain tasks\n",
        "    * Dictionary offers fast retrieval than the list. when we need to find the data on the basis of key rather than key."
      ],
      "metadata": {
        "id": "q5Ed9ymq6CMh"
      }
    },
    {
      "cell_type": "markdown",
      "source": [
        "12. How do sets handle duplicate values in Python.\n",
        "    * By ignoring the value if it is already exist in the set."
      ],
      "metadata": {
        "id": "1Cq0TO4y7RME"
      }
    },
    {
      "cell_type": "markdown",
      "source": [
        "13.  Describe a scenario where using a tuple would be preferable over a list.\n",
        "    *"
      ],
      "metadata": {
        "id": "j6TZuTsD8N-Q"
      }
    },
    {
      "cell_type": "markdown",
      "source": [
        "14. How does the “in” keyword work differently for lists and dictionaries\n",
        "    * **\"in\"** keyword in list check the specific value and in dictionary it check teh specific key."
      ],
      "metadata": {
        "id": "7trQXcBA8zVk"
      }
    },
    {
      "cell_type": "markdown",
      "source": [
        "15.  Can you modify the elements of a tuple? Explain why or why not\n",
        "    * We cannot modify the tuple as it hold the property of immutability."
      ],
      "metadata": {
        "id": "nqpLxZaQ988M"
      }
    },
    {
      "cell_type": "markdown",
      "source": [
        "16. What is a nested dictionary, and give an example of its use case.\n",
        "    * **Nested dictionary is the dictionary where values are again in dictionary.** We can use dictionary inside the dictionary when we have a key as \"address\" and the value of address is in the form of dictionary like street,state,district, pincode."
      ],
      "metadata": {
        "id": "NYLTWcfC-Kkt"
      }
    },
    {
      "cell_type": "markdown",
      "source": [
        "17. Describe the time complexity of accessing elements in a dictionary.\n",
        "    * **Time complexity** if accessing and element in dictionary is O(1)."
      ],
      "metadata": {
        "id": "5nzIqO3X_CGp"
      }
    },
    {
      "cell_type": "markdown",
      "source": [
        "18.  In what situations are lists preferred over dictionaries.\n",
        "    * When we need to access the data on the basis of index rather than key, and  to implement stack and queue data structure implementation."
      ],
      "metadata": {
        "id": "d6G_PQ4p_fw7"
      }
    },
    {
      "cell_type": "markdown",
      "source": [
        "19. Why are dictionaries considered unordered, and how does that affect data retrieval.\n",
        "    * **Dictionary consider** as unordered because it implement the hashtable, due ti which we cannot predict the in which order the data is inserted or fetched. But **after 3.6** it maintian the order.\n",
        ""
      ],
      "metadata": {
        "id": "RkeEOxq9_9m4"
      }
    },
    {
      "cell_type": "markdown",
      "source": [
        "20. Explain the difference between a list and a dictionary in terms of data retrieval.\n",
        "    * List retreive data on the basis of index and in the particular order we can predict\n",
        "    * Dictionary retreive data on the basis of key."
      ],
      "metadata": {
        "id": "Hr0geHOaAhb6"
      }
    },
    {
      "cell_type": "markdown",
      "source": [
        "# Practical Question"
      ],
      "metadata": {
        "id": "aJoZ9CM6iRww"
      }
    },
    {
      "cell_type": "code",
      "execution_count": null,
      "metadata": {
        "colab": {
          "base_uri": "https://localhost:8080/"
        },
        "id": "lZcCEm4aiHAx",
        "outputId": "3a5fe678-d1b6-49be-a887-1af9682364aa"
      },
      "outputs": [
        {
          "output_type": "stream",
          "name": "stdout",
          "text": [
            "enter the name yogesh\n",
            "yogesh\n"
          ]
        }
      ],
      "source": [
        "# 1. Write a code to create a string with your name and print it.\n",
        "\n",
        "name=input(\"enter the name \")\n",
        "print(f\"{name}\")"
      ]
    },
    {
      "cell_type": "code",
      "source": [
        "# 2. Write a code to find the length of the string \"Hello World\".\n",
        "\n",
        "string=\"Hello World\"\n",
        "print(f\"length of string is : {len(string)}\")"
      ],
      "metadata": {
        "colab": {
          "base_uri": "https://localhost:8080/"
        },
        "id": "30hcWVsFi2m6",
        "outputId": "fbdf0737-c6c9-4187-cc9c-5fd8b1ae707b"
      },
      "execution_count": null,
      "outputs": [
        {
          "output_type": "stream",
          "name": "stdout",
          "text": [
            "length of string is : 11\n"
          ]
        }
      ]
    },
    {
      "cell_type": "code",
      "source": [
        "# 3. Write a code to slice the first 3 characters from the string \"Python Programming\".\n",
        "\n",
        "data=\"Python Programming\"\n",
        "print(f\"First 3 character are : {data[:3]}\")"
      ],
      "metadata": {
        "colab": {
          "base_uri": "https://localhost:8080/"
        },
        "id": "En5kiiHvjSr-",
        "outputId": "39da2cea-c6d6-44ee-d5c6-81037415d763"
      },
      "execution_count": null,
      "outputs": [
        {
          "output_type": "stream",
          "name": "stdout",
          "text": [
            "First 3 character are : Pyt\n"
          ]
        }
      ]
    },
    {
      "cell_type": "code",
      "source": [
        "# 4. Write a code to convert the string \"hello\" to uppercase.\n",
        "\n",
        "word=\"hello\"\n",
        "print(word.upper())\n"
      ],
      "metadata": {
        "colab": {
          "base_uri": "https://localhost:8080/"
        },
        "id": "044gQkh6j-dE",
        "outputId": "dce682e9-40ef-4f9f-c050-739a158730e5"
      },
      "execution_count": null,
      "outputs": [
        {
          "output_type": "stream",
          "name": "stdout",
          "text": [
            "HELLO\n"
          ]
        }
      ]
    },
    {
      "cell_type": "code",
      "source": [
        "#5. Write a code to replace the word \"apple\" with \"orange\" in the string \"I like apple\".\n",
        "\n",
        "string1=\"I like apple\"\n",
        "print(string1.replace(\"apple\",\"orange\"))\n"
      ],
      "metadata": {
        "colab": {
          "base_uri": "https://localhost:8080/"
        },
        "id": "SZVyc5mikKvI",
        "outputId": "968cd726-c403-4ede-8218-82ad818bad09"
      },
      "execution_count": null,
      "outputs": [
        {
          "output_type": "stream",
          "name": "stdout",
          "text": [
            "I like orange\n"
          ]
        }
      ]
    },
    {
      "cell_type": "code",
      "source": [
        "#6. Write a code to create a list with numbers 1 to 5 and print it.\n",
        "\n",
        "num=[i for i in range(1,6)]\n",
        "print(num)"
      ],
      "metadata": {
        "colab": {
          "base_uri": "https://localhost:8080/"
        },
        "id": "4t1o-BLekbkA",
        "outputId": "c5de2761-4f8a-496e-9e92-dcd9f451c77a"
      },
      "execution_count": null,
      "outputs": [
        {
          "output_type": "stream",
          "name": "stdout",
          "text": [
            "[1, 2, 3, 4, 5]\n"
          ]
        }
      ]
    },
    {
      "cell_type": "code",
      "source": [
        "#7. Write a code to append the number 10 to the list [1, 2, 3, 4].\n",
        "\n",
        "lst=[1,2,3,4]\n",
        "lst.append(10)\n",
        "print(lst)\n"
      ],
      "metadata": {
        "colab": {
          "base_uri": "https://localhost:8080/"
        },
        "id": "gIS3hz1Pk6g6",
        "outputId": "35aed2d3-6363-49d9-cf62-f7c87bd4e288"
      },
      "execution_count": null,
      "outputs": [
        {
          "output_type": "stream",
          "name": "stdout",
          "text": [
            "[1, 2, 3, 4, 10]\n"
          ]
        }
      ]
    },
    {
      "cell_type": "code",
      "source": [
        "#8. Write a code to remove the number 3 from the list [1, 2, 3, 4, 5].\n",
        "\n",
        "lst1=[1,2,3,4,5]\n",
        "lst1.remove(3)\n",
        "print(lst1)\n"
      ],
      "metadata": {
        "colab": {
          "base_uri": "https://localhost:8080/"
        },
        "id": "7ddtlMILlg1F",
        "outputId": "39a1643f-1978-4e77-99fe-b37b22f0767f"
      },
      "execution_count": null,
      "outputs": [
        {
          "output_type": "stream",
          "name": "stdout",
          "text": [
            "[1, 2, 4, 5]\n"
          ]
        }
      ]
    },
    {
      "cell_type": "code",
      "source": [
        "#9. Write a code to access the second element in the list ['a', 'b', 'c', 'd']\n",
        "\n",
        "lst2=['a','b','c','d']\n",
        "print(lst2[1])"
      ],
      "metadata": {
        "colab": {
          "base_uri": "https://localhost:8080/"
        },
        "id": "dr4oc-AWlsSk",
        "outputId": "a28cbfb6-805a-4fcd-afae-bdc104e2c6f3"
      },
      "execution_count": null,
      "outputs": [
        {
          "output_type": "stream",
          "name": "stdout",
          "text": [
            "b\n"
          ]
        }
      ]
    },
    {
      "cell_type": "code",
      "source": [
        "#10. Write a code to reverse the list [10, 20, 30, 40, 50].\n",
        "\n",
        "lst3=[10,20,30,40,50]\n",
        "lst3.reverse()\n",
        "print(lst3)"
      ],
      "metadata": {
        "colab": {
          "base_uri": "https://localhost:8080/"
        },
        "id": "7zDexq-Nl37l",
        "outputId": "2340954a-0825-4d91-c292-0b90d76661e1"
      },
      "execution_count": null,
      "outputs": [
        {
          "output_type": "stream",
          "name": "stdout",
          "text": [
            "[50, 40, 30, 20, 10]\n"
          ]
        }
      ]
    },
    {
      "cell_type": "code",
      "source": [
        "#11. Write a code to create a tuple with the elements 100, 200, 300 and print it.\n",
        "\n",
        "tpl=(100,200,300)\n",
        "print(tpl)"
      ],
      "metadata": {
        "colab": {
          "base_uri": "https://localhost:8080/"
        },
        "id": "28BiVewVmBvO",
        "outputId": "05f2479a-0980-49d8-aa95-04d522c5653e"
      },
      "execution_count": null,
      "outputs": [
        {
          "output_type": "stream",
          "name": "stdout",
          "text": [
            "(100, 200, 300)\n"
          ]
        }
      ]
    },
    {
      "cell_type": "code",
      "source": [
        "#12. Write a code to access the second-to-last element of the tuple ('red', 'green', 'blue', 'yellow').\n",
        "\n",
        "tpl1=('red','green','blue','yellow')\n",
        "print(tpl1[1:])"
      ],
      "metadata": {
        "colab": {
          "base_uri": "https://localhost:8080/"
        },
        "id": "vAvaqjzPmo-C",
        "outputId": "fa9677c3-f79c-48af-f01b-80c71b68b6f8"
      },
      "execution_count": null,
      "outputs": [
        {
          "output_type": "stream",
          "name": "stdout",
          "text": [
            "('green', 'blue', 'yellow')\n"
          ]
        }
      ]
    },
    {
      "cell_type": "code",
      "source": [
        "#13. Write a code to find the minimum number in the tuple (10, 20, 5, 15).\n",
        "\n",
        "tpl2=(10,20,5,15)\n",
        "minimum=tpl2[0]\n",
        "for i in range(1,len(tpl2)):\n",
        "  if tpl2[i]<minimum:\n",
        "    minimum=tpl2[i]\n",
        "print(minimum)\n",
        "\n",
        "#or\n",
        "print(min(tpl2))"
      ],
      "metadata": {
        "colab": {
          "base_uri": "https://localhost:8080/"
        },
        "id": "uGam5c-Hm4Iy",
        "outputId": "f61e00b5-b283-4451-bae5-ff9856b5d50a"
      },
      "execution_count": null,
      "outputs": [
        {
          "output_type": "stream",
          "name": "stdout",
          "text": [
            "5\n",
            "5\n"
          ]
        }
      ]
    },
    {
      "cell_type": "code",
      "source": [
        "#14. Write a code to find the index of the element \"cat\" in the tuple ('dog', 'cat', 'rabbit').\n",
        "\n",
        "animal=('dog','cat','rabbit')\n",
        "print(animal.index(\"cat\"))"
      ],
      "metadata": {
        "colab": {
          "base_uri": "https://localhost:8080/"
        },
        "id": "J9rVEt_GqkWQ",
        "outputId": "ab1da0df-4901-4ff5-f2ac-d2913754aa22"
      },
      "execution_count": null,
      "outputs": [
        {
          "output_type": "stream",
          "name": "stdout",
          "text": [
            "1\n"
          ]
        }
      ]
    },
    {
      "cell_type": "code",
      "source": [
        "#15. Write a code to create a tuple containing three different fruits and check if \"kiwi\" is in it.\n",
        "\n",
        "fruit=(\"mango\",\"apple\",\"kiwi\")\n",
        "print(\"kiwi\" in fruit)"
      ],
      "metadata": {
        "colab": {
          "base_uri": "https://localhost:8080/"
        },
        "id": "arabeP6wq5be",
        "outputId": "0f740697-4c25-4d11-d7d4-d76281d1b6e9"
      },
      "execution_count": null,
      "outputs": [
        {
          "output_type": "stream",
          "name": "stdout",
          "text": [
            "True\n"
          ]
        }
      ]
    },
    {
      "cell_type": "code",
      "source": [
        "#16. Write a code to create a set with the elements 'a', 'b', 'c' and print it.\n",
        "\n",
        "set_data=set(map(str,input(\"enter the alphabhet with space separted\").split()))\n",
        "print(set_data)"
      ],
      "metadata": {
        "colab": {
          "base_uri": "https://localhost:8080/"
        },
        "id": "yVAYc3f2rLRA",
        "outputId": "a84c32a7-40d6-4464-d0b7-0e7bbc3bab51"
      },
      "execution_count": null,
      "outputs": [
        {
          "output_type": "stream",
          "name": "stdout",
          "text": [
            "enter the alphabhet with space separteda b c\n",
            "{'b', 'c', 'a'}\n"
          ]
        }
      ]
    },
    {
      "cell_type": "code",
      "source": [
        "#17. Write a code to clear all elements from the set {1, 2, 3, 4, 5}.\n",
        "\n",
        "new_set={1,2,3,4,5}\n",
        "new_set.clear()\n",
        "print(new_set)"
      ],
      "metadata": {
        "colab": {
          "base_uri": "https://localhost:8080/"
        },
        "id": "kuaF-8B1rrS7",
        "outputId": "be7db678-e4c3-4c57-ae64-dd8395e179e3"
      },
      "execution_count": null,
      "outputs": [
        {
          "output_type": "stream",
          "name": "stdout",
          "text": [
            "set()\n"
          ]
        }
      ]
    },
    {
      "cell_type": "code",
      "source": [
        "#18. Write a code to remove the element 4 from the set {1, 2, 3, 4}.\n",
        "\n",
        "x={1,2,3,4}\n",
        "x.remove(4)\n",
        "print(x)"
      ],
      "metadata": {
        "colab": {
          "base_uri": "https://localhost:8080/"
        },
        "id": "XMwrtDx7r4mO",
        "outputId": "a830d4e0-c8ce-4f67-d11c-d28d91ba4e2e"
      },
      "execution_count": null,
      "outputs": [
        {
          "output_type": "stream",
          "name": "stdout",
          "text": [
            "{1, 2, 3}\n"
          ]
        }
      ]
    },
    {
      "cell_type": "code",
      "source": [
        "#19. Write a code to find the union of two sets {1, 2, 3} and {3, 4, 5}.\n",
        "\n",
        "set1={1,2,3}\n",
        "set2={3,4,5}\n",
        "print(set1 | set2)\n",
        "\n",
        "#or\n",
        "\n",
        "print(set1.union(set2))"
      ],
      "metadata": {
        "colab": {
          "base_uri": "https://localhost:8080/"
        },
        "id": "Be8PH9ResBtt",
        "outputId": "7927cc06-aa8a-4bc7-bfd1-ca6cb85353ab"
      },
      "execution_count": null,
      "outputs": [
        {
          "output_type": "stream",
          "name": "stdout",
          "text": [
            "{1, 2, 3, 4, 5}\n",
            "{1, 2, 3, 4, 5}\n"
          ]
        }
      ]
    },
    {
      "cell_type": "code",
      "source": [
        "#20. Write a code to find the intersection of two sets {1, 2, 3} and {2, 3, 4}.\n",
        "set1={1,2,3}\n",
        "set2={2,3,4}\n",
        "print(set1 & set2)\n",
        "\n",
        "#or\n",
        "\n",
        "print(set1.intersection(set2))"
      ],
      "metadata": {
        "colab": {
          "base_uri": "https://localhost:8080/"
        },
        "id": "VjeSICvbsOvK",
        "outputId": "5da2eabb-d6d1-41e4-b35d-532c49eaa993"
      },
      "execution_count": null,
      "outputs": [
        {
          "output_type": "stream",
          "name": "stdout",
          "text": [
            "{2, 3}\n",
            "{2, 3}\n"
          ]
        }
      ]
    },
    {
      "cell_type": "code",
      "source": [
        "#21. Write a code to create a dictionary with the keys \"name\", \"age\", and \"city\", and print it.\n",
        "\n",
        "data=[\"name\",\"age\",\"city\"]\n",
        "dict1=dict.fromkeys(data)\n",
        "print(dict1)"
      ],
      "metadata": {
        "id": "GDgs2ALJshP4",
        "colab": {
          "base_uri": "https://localhost:8080/"
        },
        "outputId": "422afd13-f662-4a45-e566-b8b5320b3b8b"
      },
      "execution_count": null,
      "outputs": [
        {
          "output_type": "stream",
          "name": "stdout",
          "text": [
            "{'name': None, 'age': None, 'city': None}\n"
          ]
        }
      ]
    },
    {
      "cell_type": "code",
      "source": [
        "# 22. Write a code to add a new key-value pair \"country\": \"USA\" to the dictionary {'name': 'John', 'age': 25}.\n",
        "\n",
        "dict2={'name':'John','age':25}\n",
        "dict2[\"country\"]=\"USA\"\n",
        "print(dict2)"
      ],
      "metadata": {
        "colab": {
          "base_uri": "https://localhost:8080/"
        },
        "id": "WHoi57WhtsHB",
        "outputId": "7bc1b6ec-5b0f-4bfe-b35b-1725b965226a"
      },
      "execution_count": null,
      "outputs": [
        {
          "output_type": "stream",
          "name": "stdout",
          "text": [
            "{'name': 'John', 'age': 25, 'country': 'USA'}\n"
          ]
        }
      ]
    },
    {
      "cell_type": "code",
      "source": [
        "#23. Write a code to access the value associated with the key \"name\" in the dictionary {'name': 'Alice', 'age': 30}.\n",
        "\n",
        "dict3={'name': 'Alice', 'age': 30}\n",
        "print(dict3['name'])"
      ],
      "metadata": {
        "colab": {
          "base_uri": "https://localhost:8080/"
        },
        "id": "ksAgh8KPuMSi",
        "outputId": "c5b928e2-c09e-4e10-b5e1-013e33dbe277"
      },
      "execution_count": null,
      "outputs": [
        {
          "output_type": "stream",
          "name": "stdout",
          "text": [
            "Alice\n"
          ]
        }
      ]
    },
    {
      "cell_type": "code",
      "source": [
        "#24. Write a code to remove the key \"age\" from the dictionary {'name': 'Bob', 'age': 22, 'city': 'New York'}.\n",
        "\n",
        "dict4={'name': 'Bob', 'age': 22, 'city': 'New York'}\n",
        "dict4.pop('age')\n",
        "print(dict4)"
      ],
      "metadata": {
        "colab": {
          "base_uri": "https://localhost:8080/"
        },
        "id": "u9uY6iKpufdn",
        "outputId": "e9e6bb62-dbf6-4ddf-e522-d754066998e5"
      },
      "execution_count": null,
      "outputs": [
        {
          "output_type": "stream",
          "name": "stdout",
          "text": [
            "{'name': 'Bob', 'city': 'New York'}\n"
          ]
        }
      ]
    },
    {
      "cell_type": "code",
      "source": [
        "#25. Write a code to check if the key \"city\" exists in the dictionary {'name': 'Alice', 'city': 'Paris'}.\n",
        "\n",
        "dict5={'name': 'Alice', 'city': 'Paris'}\n",
        "print(\"city\" in dict5.keys())"
      ],
      "metadata": {
        "colab": {
          "base_uri": "https://localhost:8080/"
        },
        "id": "j_89YLDLuxNd",
        "outputId": "987aea1f-3243-4420-ba63-db7c718b695d"
      },
      "execution_count": null,
      "outputs": [
        {
          "output_type": "stream",
          "name": "stdout",
          "text": [
            "True\n"
          ]
        }
      ]
    },
    {
      "cell_type": "code",
      "source": [
        "#26. Write a code to create a list, a tuple, and a dictionary, and print them all.\n",
        "\n",
        "list_data=[7,8,9]\n",
        "tuple_data=(3,6,7)\n",
        "dictionary_data={'a':2,'b':5}\n",
        "print(list_data)\n",
        "print(tuple_data)\n",
        "print(dictionary_data)"
      ],
      "metadata": {
        "colab": {
          "base_uri": "https://localhost:8080/"
        },
        "id": "XY1SCFnivldy",
        "outputId": "f173e1bd-8860-4f3b-e15a-eca76d29b5be"
      },
      "execution_count": null,
      "outputs": [
        {
          "output_type": "stream",
          "name": "stdout",
          "text": [
            "[7, 8, 9]\n",
            "(3, 6, 7)\n",
            "{'a': 2, 'b': 5}\n"
          ]
        }
      ]
    },
    {
      "cell_type": "code",
      "source": [
        "#27. Write a code to create a list of 5 random numbers between 1 and 100, sort it in ascending order, and print the result(replaced).\n",
        "\n",
        "import random\n",
        "\n",
        "sort_list=[random.randint(1,100) for i in range(5)]\n",
        "sort_list.sort()\n",
        "print(sort_list)"
      ],
      "metadata": {
        "colab": {
          "base_uri": "https://localhost:8080/"
        },
        "id": "HibQkf2CwQvx",
        "outputId": "91d6519f-3d1c-4ab3-ca30-67cd370a5c18"
      },
      "execution_count": null,
      "outputs": [
        {
          "output_type": "stream",
          "name": "stdout",
          "text": [
            "[5, 20, 20, 22, 80]\n"
          ]
        }
      ]
    },
    {
      "cell_type": "code",
      "source": [
        "#28. Write a code to create a list with strings and print the element at the third index.\n",
        "\n",
        "lst_data=list(map(str,input(\"enter the string with space separated\").split()))\n",
        "print(lst_data[3])\n"
      ],
      "metadata": {
        "colab": {
          "base_uri": "https://localhost:8080/"
        },
        "id": "7HFrIo6xxb-L",
        "outputId": "d3ed3bea-ec00-465c-e1be-8357fd3b5f4e"
      },
      "execution_count": null,
      "outputs": [
        {
          "output_type": "stream",
          "name": "stdout",
          "text": [
            "enter the string with space separatedhello how are you\n",
            "you\n"
          ]
        }
      ]
    },
    {
      "cell_type": "code",
      "source": [
        "#29. Write a code to combine two dictionaries into one and print the result.\n",
        "a={\"a\":1,\"b\":2}\n",
        "b={\"x\":50,\"y\":55}\n",
        "c={**a,**b}\n",
        "print(c)"
      ],
      "metadata": {
        "colab": {
          "base_uri": "https://localhost:8080/"
        },
        "id": "kPzrK5tXyxNo",
        "outputId": "b6280c2a-e124-4550-e497-3f8510e6900e"
      },
      "execution_count": null,
      "outputs": [
        {
          "output_type": "stream",
          "name": "stdout",
          "text": [
            "{'a': 1, 'b': 2, 'x': 50, 'y': 55}\n"
          ]
        }
      ]
    },
    {
      "cell_type": "code",
      "source": [
        "#30. Write a code to convert a list of strings into a set.\n",
        "\n",
        "string_list=[\"amit\",\"sumit\",\"anita\",\"akhil\",\"amit\"]\n",
        "string_set=set(string_list)\n",
        "print(string_set)"
      ],
      "metadata": {
        "colab": {
          "base_uri": "https://localhost:8080/"
        },
        "id": "V900jJ0yzgvH",
        "outputId": "2b09b905-5d70-4373-8c70-7a23653169a6"
      },
      "execution_count": null,
      "outputs": [
        {
          "output_type": "stream",
          "name": "stdout",
          "text": [
            "{'anita', 'akhil', 'amit', 'sumit'}\n"
          ]
        }
      ]
    },
    {
      "cell_type": "code",
      "source": [],
      "metadata": {
        "id": "_9UleT34z3aV"
      },
      "execution_count": null,
      "outputs": []
    }
  ]
}