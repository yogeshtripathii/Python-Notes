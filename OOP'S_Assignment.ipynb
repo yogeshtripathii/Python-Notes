{
  "nbformat": 4,
  "nbformat_minor": 0,
  "metadata": {
    "colab": {
      "provenance": []
    },
    "kernelspec": {
      "name": "python3",
      "display_name": "Python 3"
    },
    "language_info": {
      "name": "python"
    }
  },
  "cells": [
    {
      "cell_type": "markdown",
      "source": [
        "# Theory Questions"
      ],
      "metadata": {
        "id": "HkpooSJUMyo7"
      }
    },
    {
      "cell_type": "markdown",
      "source": [
        "1. **What is Object-Oriented Programming (OOP)?**\n",
        "  > Object oriented programming is the style of programming in which the program is structured for the objects which contain attributes and properties instead of creating functions."
      ],
      "metadata": {
        "id": "ctHk7HjPM4LJ"
      }
    },
    {
      "cell_type": "markdown",
      "source": [
        "2. **What is a class in OOP?**\n",
        "  > Class in OOP is the blueprint for the objects which define the structure and behaviour of objects."
      ],
      "metadata": {
        "id": "bdQeJsk7R3aY"
      }
    },
    {
      "cell_type": "markdown",
      "source": [
        "3. **What is an object in OOP?**\n",
        "  > Object is the real world entity which used the class properties and methods.\n"
      ],
      "metadata": {
        "id": "xCbDClvATCbq"
      }
    },
    {
      "cell_type": "markdown",
      "source": [
        "4. **What is the difference between abstraction and encapsulation**\n",
        "  > **Abstraction** is the process of hidding the unnecessary details and showing the main functionality.\n",
        "  \n",
        "  > **Encapsulation** is the binidng of all the method and attributes to a single name to work as a single unit and also prevent it from unauthorized access."
      ],
      "metadata": {
        "id": "Yb3c2piFTbIx"
      }
    },
    {
      "cell_type": "markdown",
      "source": [
        "5.  **What are dunder methods in Python?**\n",
        "  > Dunder method are special method or magic method whcih can be used to map some special kind of behaviour. example- \\__init__() , \\__str__(), \\__add__, \\__repr__(), \\__len__\n",
        "\n",
        "  ```\n",
        "  x=\"python \"\n",
        "  y=\"is fun\"\n",
        "  print(x.__add__(y))   #output- python is fun\n",
        "  ```"
      ],
      "metadata": {
        "id": "ZI1I6CNXqzft"
      }
    },
    {
      "cell_type": "markdown",
      "source": [
        "6. **Explain the concept of inheritance in OOP?**\n",
        "  > Inheritence concept allow the new class can derived the methods and attributes from the parent class, this lead the code reusability and modulairty.\n",
        "\n",
        "  class Parent:\n",
        "    pass\n",
        "\n",
        "  class Child(Parent):\n",
        "    pass"
      ],
      "metadata": {
        "id": "KdGqY8JurLm8"
      }
    },
    {
      "cell_type": "markdown",
      "source": [
        "7. **What is polymorphism in OOP?**\n",
        "  > Polymorphism means one name and many form, due to this ability the entity can behave differently on the basis of object."
      ],
      "metadata": {
        "id": "86tSsYYyr7b9"
      }
    },
    {
      "cell_type": "markdown",
      "source": [
        "8. **How is encapsulation achieved in Python?**\n",
        "\n",
        "  >\n",
        "  ```\n",
        "  class A:\n",
        "    def __init__(self,a,b,c):\n",
        "      self.a=a    #public\n",
        "      self._b=b   #protected\n",
        "      self.__c=c  #private\n",
        "    \n",
        "    def showPublic(self):\n",
        "      return self.a\n",
        "    def showProtected(self):\n",
        "      return self._b\n",
        "    def showPrivate(self):\n",
        "      return self.__c\n",
        "  \n",
        "  class B(A):\n",
        "    pass\n",
        "  \n",
        "  ob1=B()\n",
        "  print(ob1.showPublic())\n",
        "  print(ob1.showProtected())\n",
        "  print(ob1.showPrivate()) #show error\n",
        "  ```"
      ],
      "metadata": {
        "id": "90XDgt08uWoJ"
      }
    },
    {
      "cell_type": "markdown",
      "source": [
        "9. **What is a constructor in Python?**\n",
        "  > Constructor is a special type of method used to initialize the initial attributes of an object when a class is instantiated. It is automatically called whenever an object of the class is created."
      ],
      "metadata": {
        "id": "QFsARcCTudwY"
      }
    },
    {
      "cell_type": "markdown",
      "source": [
        "10. **What are class and static methods in Python?**\n",
        "  > **Class method** is bound to class and can be used to change the class level attributes. The attributes which are need to be common to all instances. The class method takes class as the first argument and used with @classmethod decorator. The class method or class attributes can be access directly by the class name itself.\n",
        "\n",
        "  >  **Static method** is not bound to the class or an instance of the class.\n",
        "  It is defined using the @staticmethod decorator. Static methods cannot access or modify class-level attributes or instance-level attributes directly."
      ],
      "metadata": {
        "id": "QQXohn2CznqG"
      }
    },
    {
      "cell_type": "markdown",
      "source": [
        "11. **What is method overloading in Python**?\n",
        "  > Method overloading in python is the concept in which the method of same name is defiend within the same class with different paramenter or datatypes due to which one method can peform different opertion. **But in python method overlaoding is not directly supported.**\n"
      ],
      "metadata": {
        "id": "Mytj_Bjl0E1k"
      }
    },
    {
      "cell_type": "markdown",
      "source": [
        "12. **What is method overriding in OOP?**\n",
        "  > **Method overriding** in python is the concept in which the method in subclass has the same name as that of its superclass. At runtime python decide which method is need to run.\n"
      ],
      "metadata": {
        "id": "TOqcmzJy0Hbb"
      }
    },
    {
      "cell_type": "markdown",
      "source": [
        "13. **What is a property decorator in Python.**\n",
        "  > Property decorator is used to to access the method as it is an attribute.\n",
        "\n",
        "  ```\n",
        "  class A:\n",
        "    def __init__(self,x):\n",
        "        self.x=x\n",
        "        \n",
        "    @property\n",
        "    def display(self):\n",
        "        return self.x\n",
        "\n",
        "  ob=A(\"python\")\n",
        "  print(ob.display)\n",
        "  ```\n"
      ],
      "metadata": {
        "id": "38er_6Sn0J5T"
      }
    },
    {
      "cell_type": "markdown",
      "source": [
        "14. **Why is polymorphism important in OOP.**\n",
        "  > **Polymorphism** provide resuability and felxibility and allows methods in different classes to share the same name but perform distinct tasks.\n"
      ],
      "metadata": {
        "id": "1hB_5O-T0Mv8"
      }
    },
    {
      "cell_type": "markdown",
      "source": [
        "15. **What is an abstract class in Python**\n",
        "  > **Abstract class** gives blueprint for other class, requiring specific methods to be implemented by its subclasses. The abstract class cannot be instantiated directly."
      ],
      "metadata": {
        "id": "vf6DGtrP0O0c"
      }
    },
    {
      "cell_type": "markdown",
      "source": [
        "16. **What are the advantages of OOP.**\n",
        "   \n",
        "\n",
        "*   Modularity- By organizing the code in separate objects\n",
        "*   Resuability- Resue existing code by reducing duplication\n",
        "*   Secure- By creating abstraction and encapsulation\n",
        "  \n",
        "\n",
        "\n"
      ],
      "metadata": {
        "id": "i4VaLrJ37okn"
      }
    },
    {
      "cell_type": "markdown",
      "source": [
        "17. **What is the difference between a class variable and an instance variable.**\n",
        "  > **Class variables** are defined directly within the class body, outside of any methods and shared by all the instances of class.\n",
        "\n",
        "  > **Instance variables** are defined within the instance methods, most and are associated with self.\n"
      ],
      "metadata": {
        "id": "mdhw43my7scx"
      }
    },
    {
      "cell_type": "markdown",
      "source": [
        "18.  **What is multiple inheritance in Python.**\n",
        "  > **Multiple inheritence** is a type of inheritence where child class shared the attributes and method from the multiple parent classes.\n"
      ],
      "metadata": {
        "id": "k-DoHKoi7vUV"
      }
    },
    {
      "cell_type": "markdown",
      "source": [
        "19. **Explain the purpose of ‘ \\__str__ ’ and ‘\\__repr__’  methods in Python**\n",
        "  > **\\__str__** is used to represnt the string form of data that is readable for user and **\\__repr__** used for more detailed output so it can be used for debugging.\n",
        "\n",
        "  >```\n",
        "  import datetime\n",
        "  today=datetime.datetime.now()\n",
        "  today\n",
        "  datetime.datetime(2025, 6, 28, 10, 38, 27, 977241)\n",
        "  str(today)\n",
        "  '2025-06-28 10:38:27.977241'\n",
        "  repr(today)\n",
        "  'datetime.datetime(2025, 6, 28, 10, 38, 27, 977241)'\n",
        "  ```\n",
        "  > Here when we use today variable it showing all the details  by calling \\__repr__() automatically same as repr() doing but when we use str() it is internally calling \\__str__()\n"
      ],
      "metadata": {
        "id": "S6xD8aJQ7ysV"
      }
    },
    {
      "cell_type": "markdown",
      "source": [
        "20.  **What is the significance of the ‘super()’ function in Python.**\n",
        "  > super() function is used to refer to the parent class or superclass. It allows you to call methods defined in the superclass from the child class.\n"
      ],
      "metadata": {
        "id": "PS7nXY4Q76VC"
      }
    },
    {
      "cell_type": "markdown",
      "source": [
        "21. **What is the significance of the \\__del__ method in Python.**\n",
        "  > \\__del__ is a destructor in python which us called itself when the object is going to  garbage collector and when its all references is to be removed.\n"
      ],
      "metadata": {
        "id": "d7zkiu4r78wG"
      }
    },
    {
      "cell_type": "markdown",
      "source": [
        "22. **What is the difference between @staticmethod and @classmethod in Python.**\n",
        "  > They both are the decorators.\n",
        "\n",
        "  > **Class method** is bound to class and can be used to change the class level attributes. The attributes which are need to be common to all instances. The class method takes class as the first argument and used with @classmethod decorator. The class method or class attributes can be access directly by the class name itself.\n",
        "\n",
        "  >  **Static method** is not bound to the class or an instance of the class.\n",
        "  It is defined using the @staticmethod decorator. Static methods cannot access or modify class-level attributes or instance-level attributes directly."
      ],
      "metadata": {
        "id": "XTUbVmcc8eeR"
      }
    },
    {
      "cell_type": "markdown",
      "source": [
        "23. **How does polymorphism work in Python with inheritance.**\n",
        "  > In python polymorphism is mainly done by method overriding, operator overloading and duck typing."
      ],
      "metadata": {
        "id": "7ieiz8OR-COk"
      }
    },
    {
      "cell_type": "markdown",
      "source": [
        "24. **What is method chaining in Python OOP.**\n",
        "  > **Method chaining** is the process where we sequentially called multiple method on the same object.\n",
        "\n",
        "  > Example-\n",
        "  \n",
        "  > data=\"     hello how are you     \"\n",
        "\n",
        "  > data.strip().split()\n"
      ],
      "metadata": {
        "id": "H9eHyID7-GPi"
      }
    },
    {
      "cell_type": "markdown",
      "source": [
        "25.  **What is the purpose of the \\__call__ method in Python.**\n",
        "  > This method help to behave an object of class like a function.\n",
        "\n",
        "  ```\n",
        "  class A:\n",
        "      def __call__(self):\n",
        "        print(\"execute\")\n",
        "  ob=A()\n",
        "  ob()\n",
        "  ```"
      ],
      "metadata": {
        "id": "1TVEp7wH-NNj"
      }
    },
    {
      "cell_type": "markdown",
      "source": [
        "# Practical Questions"
      ],
      "metadata": {
        "id": "qy33XeEoqD7I"
      }
    },
    {
      "cell_type": "code",
      "execution_count": null,
      "metadata": {
        "colab": {
          "base_uri": "https://localhost:8080/"
        },
        "id": "FOt9icpZp7Nl",
        "outputId": "2bb8b8a5-4408-41fd-e964-d1177c2efcfe"
      },
      "outputs": [
        {
          "output_type": "stream",
          "name": "stdout",
          "text": [
            "Bark\n"
          ]
        }
      ],
      "source": [
        "\"\"\"\n",
        " 1. Create a parent class Animal with a method speak() that prints a generic\n",
        " message. Create a child class Dog that overrides the speak() method to print \"Bark!\".\n",
        "\"\"\"\n",
        "\n",
        "class Animal:\n",
        "    def speak(self):\n",
        "        print(\"Generic message\")\n",
        "\n",
        "class Dog(Animal):\n",
        "    def speak(self):\n",
        "        print(\"Bark\")\n",
        "\n",
        "dog = Dog()\n",
        "dog.speak()"
      ]
    },
    {
      "cell_type": "code",
      "source": [
        "\"\"\"\n",
        "2. Write a program to create an abstract class Shape with a method area().\n",
        "Derive classes Circle and Rectangle from it and implement the area() method in both.\n",
        "\"\"\"\n",
        "from abc import ABC,abstractmethod\n",
        "from math import pi\n",
        "\n",
        "class Shape(ABC):\n",
        "    @abstractmethod\n",
        "    def area(self):\n",
        "        pass\n",
        "\n",
        "class Circle(Shape):\n",
        "    def area(self,radius):\n",
        "        return pi*radius**2\n",
        "\n",
        "class Rectangle(Shape):\n",
        "    def area(self,length,width):\n",
        "        return length*width\n",
        "\n",
        "circle_area = Circle()\n",
        "print(\"%.2f\"%circle_area.area(2))\n",
        "\n",
        "rectangle_area = Rectangle()\n",
        "print(rectangle_area.area(2,3))"
      ],
      "metadata": {
        "colab": {
          "base_uri": "https://localhost:8080/"
        },
        "id": "mU4xYaHIqRl6",
        "outputId": "a3fdab4e-5df8-492e-e5fe-b9d8be7d3930"
      },
      "execution_count": null,
      "outputs": [
        {
          "output_type": "stream",
          "name": "stdout",
          "text": [
            "12.57\n",
            "6\n"
          ]
        }
      ]
    },
    {
      "cell_type": "code",
      "source": [
        "\"\"\"\n",
        "3. Implement a multi-level inheritance scenario where a class Vehicle has an\n",
        "attribute type. Derive a class Car and further derive a class ElectricCar that\n",
        "adds a battery attribute.\n",
        "\"\"\"\n",
        "\n",
        "class Vehicle:\n",
        "    def __init__(self,type):\n",
        "        self.type = type\n",
        "\n",
        "class Car(Vehicle):\n",
        "    def __init__(self,type):\n",
        "        super().__init__(type)\n",
        "\n",
        "class ElectricCar(Car):\n",
        "    def __init__(self,type,battery):\n",
        "        super().__init__(type)\n",
        "        self.battery = battery\n",
        "\n",
        "electric_car = ElectricCar(\"Electric\",50)\n",
        "print(electric_car.type)\n",
        "\n"
      ],
      "metadata": {
        "colab": {
          "base_uri": "https://localhost:8080/"
        },
        "id": "4Son_MTIrLfp",
        "outputId": "556385da-1c16-4151-cc36-29c7f0371031"
      },
      "execution_count": null,
      "outputs": [
        {
          "output_type": "stream",
          "name": "stdout",
          "text": [
            "Electric\n"
          ]
        }
      ]
    },
    {
      "cell_type": "code",
      "source": [
        "\"\"\"\n",
        "4. Demonstrate polymorphism by creating a base class Bird with a method fly().\n",
        "Create two derived classes Sparrow and Penguin that override the fly() method.\n",
        "\"\"\"\n",
        "class Bird:\n",
        "    def fly(self):\n",
        "        print(\"fly method of Bird class\")\n",
        "\n",
        "class Sparrow(Bird):\n",
        "    def fly(self):\n",
        "        print(\"fly method of Sparrow class\")\n",
        "\n",
        "class Penguin(Bird):\n",
        "    def fly(self):\n",
        "        print(\"fly method of Penguin class\")\n",
        "\n",
        "bird = Bird()\n",
        "bird.fly()\n",
        "\n",
        "sparrow = Sparrow()\n",
        "sparrow.fly()\n",
        "\n",
        "penguin = Penguin()\n",
        "penguin.fly()\n",
        "\n",
        "class Penguin(Bird):\n",
        "    def fly(self):\n",
        "        print(\"I cannot fly\")"
      ],
      "metadata": {
        "colab": {
          "base_uri": "https://localhost:8080/"
        },
        "id": "JxbqCR_otU5W",
        "outputId": "4c2cb0b8-7028-4190-f14a-0990c2b4e76f"
      },
      "execution_count": null,
      "outputs": [
        {
          "output_type": "stream",
          "name": "stdout",
          "text": [
            "fly method of Bird class\n",
            "fly method of Sparrow class\n",
            "fly method of Penguin class\n"
          ]
        }
      ]
    },
    {
      "cell_type": "code",
      "source": [
        "\"\"\"\n",
        "5. Write a program to demonstrate encapsulation by creating a class BankAccount\n",
        "with private attributes balance and methods to deposit, withdraw, and check\n",
        "balance.\n",
        "\"\"\"\n",
        "class BankAccount:\n",
        "    def __init__(self,balance):\n",
        "        self.__balance = balance\n",
        "\n",
        "    def deposit(self,amount):\n",
        "        self.__balance += amount\n",
        "\n",
        "    def withdraw(self,amount):\n",
        "        self.__balance -= amount\n",
        "\n",
        "    def check_balance(self):\n",
        "        return self.__balance\n",
        "\n",
        "ob1=BankAccount(5000)\n",
        "ob1.deposit(2000)\n",
        "ob1.withdraw(2500)\n",
        "print(ob1.check_balance())"
      ],
      "metadata": {
        "colab": {
          "base_uri": "https://localhost:8080/"
        },
        "id": "gBDmfu8ytvMl",
        "outputId": "f8399e43-a9bc-4269-af4b-e2699f572d46"
      },
      "execution_count": null,
      "outputs": [
        {
          "output_type": "stream",
          "name": "stdout",
          "text": [
            "4500\n"
          ]
        }
      ]
    },
    {
      "cell_type": "code",
      "source": [
        "\"\"\"\n",
        "6. Demonstrate runtime polymorphism using a method play() in a base class\n",
        "Instrument. Derive classes Guitar and Piano that implement their own version of\n",
        "play().\n",
        "\"\"\"\n",
        "class Instrument:\n",
        "    def play(self):\n",
        "        print(\"Play method of Intrument class\")\n",
        "\n",
        "class Guitar(Instrument):\n",
        "    def play(self):\n",
        "        print(\"Play method of Guitar class\")\n",
        "\n",
        "class Piano(Instrument):\n",
        "    def play(self):\n",
        "        print(\"Play method of Piano class\")\n",
        "\n",
        "piano=Piano()\n",
        "piano.play()\n",
        "\n"
      ],
      "metadata": {
        "colab": {
          "base_uri": "https://localhost:8080/"
        },
        "id": "gtut3j2VuZVz",
        "outputId": "65aab4e2-2d59-4ca4-e869-5573daf54cc6"
      },
      "execution_count": null,
      "outputs": [
        {
          "output_type": "stream",
          "name": "stdout",
          "text": [
            "Play method of Piano class\n"
          ]
        }
      ]
    },
    {
      "cell_type": "code",
      "source": [
        "\"\"\"\n",
        "7. Create a class MathOperations with a class method add_numbers() to add two\n",
        " numbers and a static method subtract_numbers() to subtract two numbers.\n",
        "\"\"\"\n",
        "class MathOperations:\n",
        "    @classmethod\n",
        "    def add_numbers(cls,a,b):\n",
        "        return a+b\n",
        "\n",
        "    @staticmethod\n",
        "    def subtract_numbers(a,b):\n",
        "        return a-b\n",
        "\n",
        "print(MathOperations.add_numbers(9,4))\n",
        "print(MathOperations.subtract_numbers(9,4))\n"
      ],
      "metadata": {
        "colab": {
          "base_uri": "https://localhost:8080/"
        },
        "id": "T5TjPEeWwZMD",
        "outputId": "f57dec60-e016-453c-bd33-e7128e8a4721"
      },
      "execution_count": null,
      "outputs": [
        {
          "output_type": "stream",
          "name": "stdout",
          "text": [
            "13\n",
            "5\n"
          ]
        }
      ]
    },
    {
      "cell_type": "code",
      "source": [
        "\"\"\"\n",
        "8. Implement a class Person with a class method to count the total number of\n",
        "persons created.\n",
        "\"\"\"\n",
        "class Person:\n",
        "    count=0\n",
        "    def __init__(self):\n",
        "        Person.count+=1\n",
        "\n",
        "ob1=Person()\n",
        "ob2=Person()\n",
        "ob3=Person()\n",
        "print(Person.count)"
      ],
      "metadata": {
        "colab": {
          "base_uri": "https://localhost:8080/"
        },
        "id": "prP_xUxAwktK",
        "outputId": "cb8bdef6-cf6d-4640-b6c0-339baeb19cc0"
      },
      "execution_count": null,
      "outputs": [
        {
          "output_type": "stream",
          "name": "stdout",
          "text": [
            "3\n"
          ]
        }
      ]
    },
    {
      "cell_type": "code",
      "source": [
        "\"\"\"\n",
        "9. Write a class Fraction with attributes numerator and denominator. Override\n",
        " the str method to display the fraction as \"numerator/denominator\".\n",
        " \"\"\"\n",
        "class Fraction:\n",
        "  def __init__(self,numerator,denominator):\n",
        "    self.numerator=numerator\n",
        "    self.denominator=denominator\n",
        "\n",
        "  def __str__(self):\n",
        "    return f\"{self.numerator}/{self.denominator}\"\n",
        "\n",
        "ob1=Fraction(2,3)\n",
        "print(ob1)"
      ],
      "metadata": {
        "colab": {
          "base_uri": "https://localhost:8080/"
        },
        "id": "tCrvOdYuw8-4",
        "outputId": "f56b4c0e-8eb4-4bf9-8a6d-570e35fe5ada"
      },
      "execution_count": null,
      "outputs": [
        {
          "output_type": "stream",
          "name": "stdout",
          "text": [
            "2/3\n"
          ]
        }
      ]
    },
    {
      "cell_type": "code",
      "source": [
        "\"\"\"\n",
        " 10. Demonstrate operator overloading by creating a class Vector and overriding\n",
        " the add method to add two vectors.\n",
        "\"\"\"\n",
        "\n",
        "class Vector:\n",
        "    def __init__(self,x,y):\n",
        "        self.x=x\n",
        "        self.y=y\n",
        "\n",
        "    def __add__(self,other):\n",
        "        return Vector(self.x+other.x,self.y+other.y)\n",
        "\n",
        "ob1=Vector(1,2)\n",
        "ob2=Vector(3,4)\n",
        "ob3=ob1+ob2\n",
        "print(ob3.x,ob3.y)"
      ],
      "metadata": {
        "colab": {
          "base_uri": "https://localhost:8080/"
        },
        "id": "4PWjsebvxP6o",
        "outputId": "d9c14668-e82a-4c3e-e6c6-ada3aaf53ca0"
      },
      "execution_count": null,
      "outputs": [
        {
          "output_type": "stream",
          "name": "stdout",
          "text": [
            "4 6\n"
          ]
        }
      ]
    },
    {
      "cell_type": "code",
      "source": [
        "\"\"\"\n",
        "11. Create a class Person with attributes name and age. Add a method greet()\n",
        "that prints \"Hello, my name is {name} and I am {age} years old.\"\n",
        "\"\"\"\n",
        "class Person:\n",
        "    def __init__(self,name,age):\n",
        "        self.name=name\n",
        "        self.age=age\n",
        "    def greet(self):\n",
        "        print(f\"Hello, my name is {self.name} and I am {self.age} years old.\")\n",
        "\n",
        "ob1=Person(\"yogesh\",32)\n",
        "ob1.greet()"
      ],
      "metadata": {
        "colab": {
          "base_uri": "https://localhost:8080/"
        },
        "id": "a1P8yg1gyEVc",
        "outputId": "9bd87650-a260-4be8-9118-f10297522a19"
      },
      "execution_count": null,
      "outputs": [
        {
          "output_type": "stream",
          "name": "stdout",
          "text": [
            "Hello, my name is yogesh and I am 32 years old.\n"
          ]
        }
      ]
    },
    {
      "cell_type": "code",
      "source": [
        "\"\"\"\n",
        "12. Implement a class Student with attributes name and grades. Create a method\n",
        "average_grade() to compute the average of the grades.\n",
        "\"\"\"\n",
        "class Student:\n",
        "    def __init__(self,name,grades):\n",
        "        self.name=name\n",
        "        self.grades=grades\n",
        "    def average_grade(self):\n",
        "        return sum(self.grades)/len(self.grades)\n",
        "\n",
        "ob1=Student(\"Sumit\",[75,85,64,89,93])\n",
        "print(ob1.average_grade())"
      ],
      "metadata": {
        "colab": {
          "base_uri": "https://localhost:8080/"
        },
        "id": "rdnOibvEyj9S",
        "outputId": "f1504fa6-9c57-446d-8868-e65f09f814dd"
      },
      "execution_count": null,
      "outputs": [
        {
          "output_type": "stream",
          "name": "stdout",
          "text": [
            "81.2\n"
          ]
        }
      ]
    },
    {
      "cell_type": "code",
      "source": [
        "\"\"\"\n",
        "13. Create a class Rectangle with methods set_dimensions() to set the\n",
        "dimensions and area() to calculate the area.\n",
        "\"\"\"\n",
        "\n",
        "class Rectangle:\n",
        "\n",
        "  @classmethod\n",
        "  def set_dimensions(cls,length,width):\n",
        "    cls.length=length\n",
        "    cls.width=width\n",
        "\n",
        "  @classmethod\n",
        "  def area(self):\n",
        "    return self.length*self.width\n",
        "\n",
        "\n",
        "Rectangle.set_dimensions(4,7)\n",
        "print(Rectangle.area())"
      ],
      "metadata": {
        "colab": {
          "base_uri": "https://localhost:8080/"
        },
        "id": "piUn_RNtyy_c",
        "outputId": "825a4724-5522-4a8a-a3d1-846031ce4a79"
      },
      "execution_count": null,
      "outputs": [
        {
          "output_type": "stream",
          "name": "stdout",
          "text": [
            "28\n"
          ]
        }
      ]
    },
    {
      "cell_type": "code",
      "source": [
        "\"\"\"\n",
        "14. Create a class Employee with a method calculate_salary() that computes the\n",
        "salary based on hours worked and hourly rate. Create a derived class Manager\n",
        "that adds a bonus to the salary.\n",
        "\"\"\"\n",
        "\n",
        "class Employee:\n",
        "  def __init__(self,hours_worked,hourly_rate):\n",
        "    self.hours_worked=hours_worked\n",
        "    self.hourly_rate=hourly_rate\n",
        "\n",
        "  def calculate_salary(self):\n",
        "    return self.hours_worked*self.hourly_rate\n",
        "\n",
        "class Manager(Employee):\n",
        "  def __init__(self,hours_worked,hourly_rate,bonus):\n",
        "    super().__init__(hours_worked,hourly_rate)\n",
        "    self.bonus=bonus\n",
        "\n",
        "  def calculate_salary(self):\n",
        "      return super().calculate_salary()+self.bonus\n",
        "\n",
        "amit=Manager(8,500,1500)\n",
        "print(amit.calculate_salary())\n",
        "\n",
        "amita=Manager(6,400,800)\n",
        "print(amita.calculate_salary())"
      ],
      "metadata": {
        "colab": {
          "base_uri": "https://localhost:8080/"
        },
        "id": "7kuqLXet1-29",
        "outputId": "38b705df-ba83-4d11-d537-3025dd4b484a"
      },
      "execution_count": null,
      "outputs": [
        {
          "output_type": "stream",
          "name": "stdout",
          "text": [
            "5500\n",
            "3200\n"
          ]
        }
      ]
    },
    {
      "cell_type": "code",
      "source": [
        "\"\"\"\n",
        "15. Create a class Product with attributes name, price, and quantity.\n",
        "Implement a method total_price() that calculates the total price of the product.\n",
        "\"\"\"\n",
        "class Product:\n",
        "    def __init__(self,name,price,quantity):\n",
        "        self.name=name\n",
        "        self.price=price\n",
        "        self.quantity=quantity\n",
        "    def total_price(self):\n",
        "        return self.price*self.quantity\n",
        "\n",
        "product1=Product(\"Milton Water Bottle\",250,2)\n",
        "print(product1.total_price())\n",
        "\n",
        "product2=Product(\"A4 Size Paper bundle\",230,10)\n",
        "print(product2.total_price())"
      ],
      "metadata": {
        "colab": {
          "base_uri": "https://localhost:8080/"
        },
        "id": "g9-NIyUi6-pK",
        "outputId": "074da59f-29f2-4abe-920b-e57724db3fdc"
      },
      "execution_count": null,
      "outputs": [
        {
          "output_type": "stream",
          "name": "stdout",
          "text": [
            "500\n",
            "2300\n"
          ]
        }
      ]
    },
    {
      "cell_type": "code",
      "source": [
        "\"\"\"\n",
        "16. Create a class Animal with an abstract method sound(). Create two derived\n",
        "classes Cow and Sheep that implement the sound() method.\n",
        "\"\"\"\n",
        "from abc import ABC,abstractmethod\n",
        "\n",
        "class Animal:\n",
        "  @abstractmethod\n",
        "  def sound(self):\n",
        "    pass\n",
        "\n",
        "class Cow(Animal):\n",
        "  def sound(self):\n",
        "    print(\"Moo\")\n",
        "\n",
        "class Sheep(Animal):\n",
        "  def sound(self):\n",
        "    print(\"Baa\")\n",
        "\n",
        "cow=Cow()\n",
        "cow.sound()\n",
        "\n",
        "sheep=Sheep()\n",
        "sheep.sound()"
      ],
      "metadata": {
        "colab": {
          "base_uri": "https://localhost:8080/"
        },
        "id": "dRE1HAUw7g0u",
        "outputId": "cebb5916-f7f4-473b-bbd8-6f594e1bd330"
      },
      "execution_count": null,
      "outputs": [
        {
          "output_type": "stream",
          "name": "stdout",
          "text": [
            "Moo\n",
            "Baa\n"
          ]
        }
      ]
    },
    {
      "cell_type": "code",
      "source": [
        "\"\"\"\n",
        "17. Create a class Book with attributes title, author, and year_published.\n",
        "Add a method get_book_info() that returns a formatted string with the book's\n",
        "details.\n",
        "\"\"\"\n",
        "class Book:\n",
        "    def __init__(self,title,author,year_published):\n",
        "        self.title=title\n",
        "        self.author=author\n",
        "        self.year_published=year_published\n",
        "\n",
        "    def get_book_info(self):\n",
        "        return f\"Title: {self.title}, Author: {self.author}, Year Published: {self.year_published}\"\n",
        "\n",
        "book1=Book(\"Let Us C\",\"Yashwant kanetkar\",2025)\n",
        "print(book1.get_book_info())"
      ],
      "metadata": {
        "colab": {
          "base_uri": "https://localhost:8080/"
        },
        "id": "qfCZRg8f8hP5",
        "outputId": "d77a59cf-cf0e-459f-b93e-c15af3a00873"
      },
      "execution_count": null,
      "outputs": [
        {
          "output_type": "stream",
          "name": "stdout",
          "text": [
            "Title: Let Us C, Author: Yashwant kanetkar, Year Published: 2025\n"
          ]
        }
      ]
    },
    {
      "cell_type": "code",
      "source": [
        "\"\"\"\n",
        "18. Create a class House with attributes address and price. Create a derived\n",
        " class Mansion that adds an attribute number_of_rooms.\n",
        "\"\"\"\n",
        "class House:\n",
        "    def __init__(self,address,price):\n",
        "        self.address=address\n",
        "        self.price=price\n",
        "\n",
        "class Mension(House):\n",
        "    def __init__(self,address,price,number_of_rooms):\n",
        "        super().__init__(address,price)\n",
        "        self.number_of_rooms=number_of_rooms\n",
        "\n",
        "    def __str__(self):\n",
        "        return f\"Address: {self.address}, Price: {self.price}, Number of Rooms: {self.number_of_rooms}\"\n",
        "\n",
        "mension1=Mension(\"Haldwani\",10000000,4)\n",
        "print(mension1)"
      ],
      "metadata": {
        "colab": {
          "base_uri": "https://localhost:8080/"
        },
        "id": "WPe_zmTn8pkI",
        "outputId": "eb59a75f-2eff-483f-b5c9-6e455499fde0"
      },
      "execution_count": null,
      "outputs": [
        {
          "output_type": "stream",
          "name": "stdout",
          "text": [
            "Address: Haldwani, Price: 10000000, Number of Rooms: 4\n"
          ]
        }
      ]
    },
    {
      "cell_type": "code",
      "source": [],
      "metadata": {
        "id": "-yCPxRNL_EwE"
      },
      "execution_count": null,
      "outputs": []
    }
  ]
}